{
 "cells": [
  {
   "cell_type": "markdown",
   "metadata": {},
   "source": [
    "# Tarea 0\n"
   ]
  },
  {
   "cell_type": "markdown",
   "metadata": {},
   "source": [
    "**Envío del PR inicial:** 17.08.2018\n",
    "\n",
    "**Aceptación del PR:** 26.08.2018\n",
    "\n",
    "(Esta tarea se enviará de manera individual.)"
   ]
  },
  {
   "cell_type": "markdown",
   "metadata": {},
   "source": [
    "#### NOTA:\n",
    "\n",
    "Esta tarea se enviará como *pull request* (PR), incluyéndola en un directorio *con su nombre* (o usuario en GitHub), que estará dentro del directorio `tarea/` del repositorio del curso."
   ]
  },
  {
   "cell_type": "markdown",
   "metadata": {},
   "source": [
    "## 1.\n",
    "\n",
    "Crear una cuenta de usuario en `GitHub` y enviar el usuario en esta [liga](https://github.com/lbenet/TSFisComp1/issues/2)."
   ]
  },
  {
   "cell_type": "markdown",
   "metadata": {},
   "source": [
    "## 2.\n",
    "\n",
    "Hacer todos los ejercicios del tutorial [LearnGitBranching](https://learngitbranching.js.org).\n",
    "Incluir en este notebook (en la siguiente celda) una captura de pantalla que muestre que completaron todos los ejercios."
   ]
  },
  {
   "cell_type": "markdown",
   "metadata": {},
   "source": [
    "![](tarea0.png)"
   ]
  },
  {
   "cell_type": "markdown",
   "metadata": {},
   "source": [
    "![](tarea0_1.png)"
   ]
  },
  {
   "cell_type": "code",
   "execution_count": null,
   "metadata": {},
   "outputs": [],
   "source": []
  }
 ],
 "metadata": {
  "kernelspec": {
   "display_name": "Julia 0.6.4",
   "language": "julia",
   "name": "julia-0.6"
  },
  "language_info": {
   "file_extension": ".jl",
   "mimetype": "application/julia",
   "name": "julia",
   "version": "0.6.4"
  }
 },
 "nbformat": 4,
 "nbformat_minor": 2
}
