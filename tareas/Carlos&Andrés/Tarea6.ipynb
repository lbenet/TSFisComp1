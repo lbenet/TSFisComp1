{
 "cells": [
  {
   "cell_type": "markdown",
   "metadata": {},
   "source": [
    "# Tarea 6"
   ]
  },
  {
   "cell_type": "markdown",
   "metadata": {},
   "source": [
    "**Envío del PR inicial:** Sábado, 3 de noviembre\n",
    "\n",
    "**Aceptación del PR:** Viernes 9 de noviembre\n",
    "\n",
    "**NOTA:** Esta tarea debe entregarse en equipo."
   ]
  },
  {
   "cell_type": "code",
   "execution_count": null,
   "metadata": {},
   "outputs": [],
   "source": [
    "include(\"DualNum.jl\")\n",
    "using TaylorSeries\n",
    "using Plots"
   ]
  },
  {
   "cell_type": "code",
   "execution_count": null,
   "metadata": {},
   "outputs": [],
   "source": [
    "Qc(x,c) = x^2+c"
   ]
  },
  {
   "cell_type": "code",
   "execution_count": null,
   "metadata": {},
   "outputs": [],
   "source": [
    "\"\"\"\n",
    "    Qcⁿ(x, args)\n",
    "\n",
    "Esta función define el n-enésimo iterado de Qc(x,c),\n",
    "donde el valor a iterar es `x` y el valor del parámetro\n",
    "es `c`, donde `c = args[1]` y `n = args[2]`.\n",
    "\"\"\"\n",
    "function Qcⁿ(x, args)\n",
    "    c, n = args[1], args[2]\n",
    "    @assert n >= 0 && isa(n,Int)\n",
    "    n <= 1 && return Qc(x,c)\n",
    "    for it = 1:n\n",
    "        x = Qc(x,c)\n",
    "    end\n",
    "    return x\n",
    "end"
   ]
  },
  {
   "cell_type": "markdown",
   "metadata": {},
   "source": [
    "# 1\n",
    "\n",
    "- ¿Cómo se generaliza la expresión anterior para el exponente de Lyapunov en mapeos de 1 variable, a mapeos de 2 variables?\n",
    "\n",
    "\n",
    "- ¿Cómo se compara el exponente de Lyapunov $\\lambda(x_0)$ con $\\lambda( f(x_0) )$, para el mapeo $x\\mapsto f(x)$?"
   ]
  },
  {
   "cell_type": "markdown",
   "metadata": {},
   "source": [
    "Al tratarse ahor a de un mapeo en dos dimensiones $f:\\mathcal{R}^2\\rightarrow\\mathcal{R}^2$, la derivada es ahora el jacobiano $Df(\\vec{x})$ que es una matriz 2x2.\n",
    "\n",
    "Una condición inicial muy cercana a la condicion inicial $\\vec{x_o}$ puede ser pensada como una vecindad de radio $\\epsilon$ al redodor de $\\vec{x_o}$, misma que será transformada y cambiará de forma con cada iteracion del mapeo $f(\\vec{x})$.\n",
    "\n",
    "El jacobiano del $n-ésimo$ iterado: $Df^n(\\vec{x})$, tiene dos eigenvectores y dos eigenvalores. Con cada iteración habrá que hacer la propia diagonalización de la matriz $Df^n(\\vec{x})$, para encontrar los eigenvalores y eigenvectores. Tales vectores serán las direcciones en las que se alarga o se contrae la vecindad (circulo,elipse,o de cualquier otra forma) del punto $f^n(x_o)$.\n",
    "\n",
    "Es necesario entonces que se definan $n$ exponentes de Lyapunov, si se trata un mapeo de $n$ dimensiones, puesto que una vecindad tendrá $n$ direcciones en las que se alarga o contrae (eigenvectores), en el caso de 2 variables, existirán dos exponentes de Lyapunov $\\lambda_1(\\vec{x})$ y $\\lambda_2(\\vec{x})$, que estarán dados por:\n",
    "$$\n",
    "\\lambda_k(\\vec{x_o}) = \\lim_{n\\rightarrow\\infty}\\ln\\left(\\prod_{i=1}^n| y_k^i |\\right)\n",
    "$$\n",
    "donde $y_k^i$ es la longitud de la $k-ésimo$ dirección o eigenvector de la vecindad para el iterado $i-ésimo$ de la condición inicial $\\vec{x_o}$.\n",
    "\n",
    "La expresión para el exponente de Lyapunov con condición inicial correspondiente a la pripera aplicación del maepo $f$ en $\\vec{x_o}$, sería:\n",
    "$$\n",
    "\\lambda_k(f(\\vec{x_o})) = \\lim_{n\\rightarrow\\infty}\\ln\\left(\\prod_{i=2}^n| y_k^i |\\right)\n",
    "$$\n",
    "que como se trata de la misma órbita y en principio de debe tomar el límite cuando $n\\rightarrow\\infty$, resultaría ser el mismo número. Mas adelante se verá este aspecto para el mapeo cuadrático."
   ]
  },
  {
   "cell_type": "markdown",
   "metadata": {},
   "source": [
    "# 2\n",
    "\n",
    "Obtengan, para la familia de mapeos cuadrática $Q_c(x)$, el diagrama que muestra el exponente de Lyapunov en términos de $c$, para $c\\in[-2,2]$.\n",
    "\n",
    "- ¿Qué particularidad ocurre (en términos del exponente de Lyapunov) para los valores de $c$ donde hay bifurcaciones?\n",
    "\n",
    "- ¿Qué particularidad ocurre (en términos del exponente de Lyapunov) cuando tenemos *ciclos superestables*, es decir, cuando $x=0$ es parte de un ciclo periódico?"
   ]
  },
  {
   "cell_type": "code",
   "execution_count": null,
   "metadata": {},
   "outputs": [],
   "source": [
    "\"\"\"\n",
    "    iterados(f,nout,crange)\n",
    "Devuelve una matriz cuyas filas corresponden al n-ésimo iterado de la función `f`.\n",
    "Las columnas corresponden a un mismo parámetro `c` de la función `f`.\n",
    "\"\"\"\n",
    "function iterados(f,x0,nout,crange)\n",
    "    \n",
    "    ff = Array{Float64,2}(undef, nout, length(crange))\n",
    "    \n",
    "    \n",
    "    \n",
    "    for ic in eachindex(crange)\n",
    "        x = x0\n",
    "        cc = crange[ic]\n",
    "        #@inbounds ff[1,ic] = x0\n",
    "        for it = 1:nout\n",
    "            x = f(x, cc)\n",
    "            @inbounds ff[it, ic] = x\n",
    "        end\n",
    "\n",
    "    end\n",
    "    \n",
    "    return ff\n",
    "\n",
    "end"
   ]
  },
  {
   "cell_type": "code",
   "execution_count": null,
   "metadata": {},
   "outputs": [],
   "source": [
    "function lambda(f, x0,nout,crange)\n",
    "    \n",
    "    ff = iterados(f,x0,nout,crange)\n",
    "    \n",
    "    L = Array{Float64,1}(undef, length(crange))\n",
    "    \n",
    "    for ic in eachindex(crange)\n",
    "        sum = 0.0\n",
    "        for it in 1:nout\n",
    "            sum = sum + log(abs(f(DualNum.dual(ff[it,ic]),crange[ic]).x´))\n",
    "        end\n",
    "        lambda = sum/nout\n",
    "        @inbounds L[ic] = lambda\n",
    "    end\n",
    "    \n",
    "    return L\n",
    "end"
   ]
  },
  {
   "cell_type": "markdown",
   "metadata": {},
   "source": [
    "A continuación se puede ver la diferencia entre los exponentes de Lyapunov para una condición inicial ($x_o=0.25$) usando el mapeo cuadrático con $c=-1.5$ y el respecivo exponente para la condición inicial $Q_{-1.5}(0.25)$.\n",
    "El error es del orden de $10^-{10}$, lo cual nos dice que deberpia ser el mismo, no lo es pues computacionalmente $n\\rightarrow\\infty$ solo se hace para una $n$ muy grande."
   ]
  },
  {
   "cell_type": "code",
   "execution_count": null,
   "metadata": {},
   "outputs": [],
   "source": [
    "a = lambda(Qc,0.25,1000000,-1.5)\n",
    "b = lambda(Qc,Qcⁿ(0.25,(-1.5,2)),1000000,-1.5)\n",
    "\n",
    "println(abs(a[1]-b[1]))"
   ]
  },
  {
   "cell_type": "code",
   "execution_count": null,
   "metadata": {},
   "outputs": [],
   "source": [
    "E_L = lambda(Qc,0.1,1000000,-2.0:0.02:1.0)\n",
    "plot(-2.0:0.02:1.0, E_L, legend = false,xlabel=\"c\", ylabel=\"Exp. de Lyapunov\",title=\"Xo=0.1\")"
   ]
  },
  {
   "cell_type": "code",
   "execution_count": null,
   "metadata": {},
   "outputs": [],
   "source": [
    "E_L1 = lambda(Qc,-1.4,100000,-2.0:0.02:1.0)\n",
    "plot(-2.0:0.02:1.0, E_L1,legend=false, xlabel=\"c\", ylabel=\"Exp. de Lyapunov\",title=\"Xo=-1.4\")"
   ]
  },
  {
   "cell_type": "markdown",
   "metadata": {},
   "source": [
    "Se observa que para $c$ tal que hay bifurcación, el exponente de Lyapunov $\\lambda(x_o)$ es cero o muy cercano a cero.\n",
    "\n",
    "Mientras que cuando se tiene $c$ para un ciclo super estable, el exponente de Lyapunov $\\lambda(x_o)\\rightarrow-\\infty$, lo cuál hace sentido, pues así dos condiciones iniciales separadas por una distancia $\\epsilon$, convergen muy rápidamente a $x=0$ pues es un ciclo super estable."
   ]
  },
  {
   "cell_type": "markdown",
   "metadata": {},
   "source": [
    "# 3\n",
    "\n",
    "Rehacer los cálculos de los exponentes de Feigenbaum,\n",
    "\\begin{eqnarray*}\n",
    "f_n &=& \\frac{C_n-C_{n+1}}{C_{n+1}-C_{n+2}},\\\\\n",
    "a_n &=& \\frac{d_n}{d_{n+1}},\n",
    "\\end{eqnarray*}\n",
    "\n",
    "usando los valores $C_n$ donde se tienen ciclos superestables de periodo $2^n$. (Este ejercicio es muy parecido a los ejercicios 1 y 3 de la `Tarea4`.) \n",
    "\n",
    "Nota: Es importante dar un punto suficientemente bien aproximado a $C_n$ para que el método de Newton converja bien."
   ]
  },
  {
   "cell_type": "code",
   "execution_count": null,
   "metadata": {},
   "outputs": [],
   "source": [
    "function roots_newton(f, x0)\n",
    "    t = Taylor1(eltype(x0), 1)\n",
    "    for ind = 1:100\n",
    "       fT = f(x0+t)\n",
    "       x0 = x0 - fT[0]/fT[1]\n",
    "    end\n",
    "    x0\n",
    "end"
   ]
  },
  {
   "cell_type": "code",
   "execution_count": null,
   "metadata": {},
   "outputs": [],
   "source": [
    "C0 = 0.0\n",
    "C1 = -1.0\n",
    "\n",
    "Q4c = c -> Qcⁿ(0.0, (c, 4))\n",
    "C2 = roots_newton(Q4c, -1.4)\n",
    "\n",
    "\n",
    "Q8c = c -> Qcⁿ(0.0, (c, 8))\n",
    "C3 = roots_newton(Q8c, -1.4)\n",
    "\n",
    "Q16c = c -> Qcⁿ(0.0, (c, 16))\n",
    "C4 = roots_newton(Q16c, -1.4)\n",
    "\n",
    "Q32c = c -> Qcⁿ(0.0, (c, 32))\n",
    "C5 = roots_newton(Q32c, -1.4)\n",
    "\n",
    "Q64c = c -> Qcⁿ(0.0, (c, 64))\n",
    "C6 = roots_newton(Q64c, -1.401)\n",
    "\n",
    "Q128c = c -> Qcⁿ(0.0, (c, 128))\n",
    "C7 = roots_newton(Q128c, -1.4011)\n",
    "\n",
    "Q256c = c -> Qcⁿ(0.0, (c, 256))\n",
    "C8 = roots_newton(Q256c, -1.40115)"
   ]
  },
  {
   "cell_type": "code",
   "execution_count": null,
   "metadata": {},
   "outputs": [],
   "source": [
    "Cn=[C0,C1,C2,C3,C4,C5,C6,C7,C8]\n",
    "fn(c1,c2,c3) = (c1-c2)/(c2-c3)"
   ]
  },
  {
   "cell_type": "code",
   "execution_count": null,
   "metadata": {},
   "outputs": [],
   "source": [
    "Fn=[]\n",
    "for i in 1:7\n",
    "    push!(Fn,fn(Cn[i],Cn[i+1],Cn[i+2]))\n",
    "end\n",
    "Fn"
   ]
  },
  {
   "cell_type": "markdown",
   "metadata": {},
   "source": [
    "Para determinar la sucesión $a_n = d_n/d_{n+1}$. Ya que tenemos la sucesión $C_n$ determinaremos los puntos de periodo $2^p$ para tales $C_n$."
   ]
  },
  {
   "cell_type": "code",
   "execution_count": null,
   "metadata": {},
   "outputs": [],
   "source": [
    "\"\"\"\n",
    "    ciclosestables!(xx, f, cc, nit, nout)\n",
    "\n",
    "Esta función itera el mapeo `f`, de una variable, `nit+nout` veces, \n",
    "usando como condición inicial `x0=0`; los últimos `nout` iterados \n",
    "actualizan al vector `xx` que tiene longitud `nout`. `cc` es el valor\n",
    "del parámetro del mapeo `f`. El mapeo `f` debe ser definido de \n",
    "tal manera que `f(x0, cc)` tenga sentido. La idea es que los últimos \n",
    "`nout` iterados reflejen los ciclos estables del mapeo `f`.\n",
    "\"\"\"\n",
    "function ciclosestables!(xx, f, cc, nit, nout)\n",
    "    @assert (nit > 0) && (nout > 0)\n",
    "    \n",
    "    # Primeros nit iterados\n",
    "    x0 = 0.0\n",
    "    for it = 1:nit\n",
    "        x0 = f(x0, cc)\n",
    "    end\n",
    "    \n",
    "    # Se guardan los siguientes nout iterados\n",
    "    for it = 1:nout\n",
    "        x0 = f(x0, cc)\n",
    "        @inbounds xx[it] = x0\n",
    "    end\n",
    "    \n",
    "    nothing\n",
    "end"
   ]
  },
  {
   "cell_type": "code",
   "execution_count": null,
   "metadata": {},
   "outputs": [],
   "source": [
    "\"\"\"\n",
    "    diag_bifurc(f, nit, nout, crange)\n",
    "\n",
    "Itera el mapeo `f` `nit+nout` veces y regresa una matriz\n",
    "cuya columna `i` tiene los últimos `nout` iterados del mapeo\n",
    "para el valor del parámetro del mapeo `crange[i]`.\n",
    "\n",
    "La función `f` debe ser definida de tal manera que `f(x0, c)` \n",
    "tenga sentido.\n",
    "\"\"\"\n",
    "function diag_bifurc(f, nit, nout, crange)\n",
    "#     xx = Vector{Float64}(nout)\n",
    "    ff = Array{Float64,2}(undef, nout, length(crange))\n",
    "    \n",
    "    for ic in eachindex(crange)\n",
    "        c = crange[ic]\n",
    "        ciclosestables!(view(ff, :, ic), f, c, nit, nout)\n",
    "#         ff[:,ic] = xx\n",
    "    end\n",
    "    \n",
    "    return ff\n",
    "end"
   ]
  },
  {
   "cell_type": "code",
   "execution_count": null,
   "metadata": {},
   "outputs": [],
   "source": [
    "D = []\n",
    "for i in 1:9\n",
    "\n",
    "    A = diag_bifurc(Qc, 1000000, 2^(i-1), Cn[i])          #Se usarán los valores de c determinados en el inciso anterior.\n",
    "    \n",
    "    absA = []                    #Se tomarán los valores absolutos del vector A, para poder nombrar al más cercano a cero\n",
    "                                 #como el mínimo de éste vector absA\n",
    "    for l in 1:length(A)\n",
    "        push!( absA , abs(A[l]))\n",
    "    end\n",
    "    \n",
    "    min = minimum(absA)\n",
    "    s = 0\n",
    "    \n",
    "    for r in 1:length(absA)      #Se guarda el ínidce tal que el la entrada de A es la más cercana a cero.\n",
    "        if absA[r] == min\n",
    "            s = r\n",
    "        end\n",
    "    end\n",
    "\n",
    "\n",
    "    D1 = []\n",
    "    \n",
    "    if i == 1\n",
    "        push!(D1,0.0)\n",
    "    end\n",
    "    \n",
    "    for m in 1:length(A)        #Se realiza la resta de los demás puntos fijos de A, con el más cercano a cero y se guardan en D1\n",
    "        if m != s\n",
    "            push!(D1, abs(min-A[m]))\n",
    "        end\n",
    "    end\n",
    "    \n",
    "    push!(D, minimum(D1))       #Por último en el vector D, se guarda el menor de las restas anteriores.\n",
    "    \n",
    "end"
   ]
  },
  {
   "cell_type": "code",
   "execution_count": null,
   "metadata": {},
   "outputs": [],
   "source": [
    "dn(d1,d2) = d1/d2\n",
    "α = []\n",
    "for i in 1:8\n",
    "    push!(α, dn(D[i],D[i+1]))\n",
    "end\n",
    "α"
   ]
  },
  {
   "cell_type": "markdown",
   "metadata": {},
   "source": [
    "# 4\n",
    "\n",
    "Comparar gráficamente los mapeos $Q_{c}(x)$ y $Q_{c^\\prime}^2(x)$ para $c=1/4, 0, -3/4, -1, -2, -2.2$ y $c^\\prime=-3/4,-1,-5/4,-1.3, -1.546\\dots, -1.65$. \n"
   ]
  },
  {
   "cell_type": "code",
   "execution_count": null,
   "metadata": {},
   "outputs": [],
   "source": [
    "xrange = -3:1/128:3\n",
    "p1 = plot(xrange, x->Qc(x,1/4),legend=false,title=\"c=1/4\",xlabel=\"x\",ylabel=\"Qc(x)\")\n",
    "plot!(xrange,x->x)\n",
    "p2 = plot(xrange, x->Qc(x,0.0),legend=false,title=\"c=0.0\",xlabel=\"x\",ylabel=\"Qc(x)\")\n",
    "plot!(xrange, x->x)\n",
    "p3 = plot(xrange, x->Qc(x,-3/4),legend=false,title=\"c=-3/4\",xlabel=\"x\",ylabel=\"Qc(x)\")\n",
    "plot!(xrange, x->x)\n",
    "p4 = plot(xrange, x->Qc(x,-1.0),legend=false,title=\"c=-1\",xlabel=\"x\",ylabel=\"Qc(x)\")\n",
    "plot!(xrange, x->x)\n",
    "p5 = plot(xrange, x->Qc(x,-2.0),legend=false,title=\"c=-2\",xlabel=\"x\",ylabel=\"Qc(x)\")\n",
    "plot!(xrange, x->x)\n",
    "p6 = plot(xrange, x->Qc(x,-2.2),legend=false,title=\"c=-2.2\",xlabel=\"x\",ylabel=\"Qc(x)\")\n",
    "plot!(xrange, x->x)"
   ]
  },
  {
   "cell_type": "code",
   "execution_count": null,
   "metadata": {},
   "outputs": [],
   "source": [
    "x = -2:1/128:2\n",
    "P1 = plot(x, x->Qcⁿ(x,(-3/4,2)),legend=false,title=\"c=-3/4\",xlabel=\"x\",ylabel=\"Qc(x)\")\n",
    "plot!(x, x->x)\n",
    "P2 = plot(x, x->Qcⁿ(x,(-1.0,2)),legend=false,title=\"c=-1\",xlabel=\"x\",ylabel=\"Qc(x)\")\n",
    "plot!(x, x->x)\n",
    "P3 = plot(x, x->Qcⁿ(x,(-5/4,2)),legend=false,title=\"c=-1.25\",xlabel=\"x\",ylabel=\"Qc(x)\")\n",
    "plot!(x, x->x)\n",
    "P4 = plot(x, x->Qcⁿ(x,(-1.3107026413368328,2)),legend=false,title=\"c=-1.3\",xlabel=\"x\",ylabel=\"Qc(x)\")\n",
    "plot!(x, x->x)\n",
    "P5 = plot(x, x->Qcⁿ(x,(-1.546,2)),legend=false,title=\"c=-1.546\",xlabel=\"x\",ylabel=\"Qc(x)\")\n",
    "plot!(x, x->x)\n",
    "P6 = plot(x, x->Qcⁿ(x,(-1.65,2)),legend=false,title=\"c=-1.65\",xlabel=\"x\",ylabel=\"Qc(x)\")\n",
    "plot!(x, x->x)"
   ]
  },
  {
   "cell_type": "code",
   "execution_count": null,
   "metadata": {},
   "outputs": [],
   "source": [
    "plot(p1,P1)"
   ]
  },
  {
   "cell_type": "code",
   "execution_count": null,
   "metadata": {},
   "outputs": [],
   "source": [
    "plot(p2,P2)"
   ]
  },
  {
   "cell_type": "code",
   "execution_count": null,
   "metadata": {},
   "outputs": [],
   "source": [
    "plot(p3,P3)"
   ]
  },
  {
   "cell_type": "code",
   "execution_count": null,
   "metadata": {},
   "outputs": [],
   "source": [
    "plot(p4,P4)"
   ]
  },
  {
   "cell_type": "code",
   "execution_count": null,
   "metadata": {},
   "outputs": [],
   "source": [
    "plot(p5,P5)"
   ]
  },
  {
   "cell_type": "code",
   "execution_count": null,
   "metadata": {},
   "outputs": [],
   "source": [
    "plot(p6,P6)"
   ]
  },
  {
   "cell_type": "markdown",
   "metadata": {},
   "source": [
    "En las gráficas anteriores se observa como ciertas secciones de las gráficas de la izquierda son muy similares las de la derecha, muy cerca de intersectar a la función identidad."
   ]
  },
  {
   "cell_type": "markdown",
   "metadata": {},
   "source": [
    "# 5\n",
    "\n",
    "Estudiar la dinámica para $c=-2.2$\n",
    "\n",
    "- ¿Cómo se caracteriza el valor al que tiende *casi* cualquier condición inicial en el\n",
    "intervalo $I=[-p_+,p_+]$ (donde $p_+$ es el valor positivo tal que $Q_c(p_+)=p_+$), después de muchos iterados? (El intervalo $I$ es donde \"toda la dinámica interesante ocurre\".)\n",
    "\n",
    "- Caractericen los subconjuntos de $I$ tales que, después de $n=1,2,3,\\dots$ iterados de $Q_c(x)$, su intersección con $I$ es vacía.\n",
    "\n",
    "- Caracterizen al complemento del conjunto de los casos anteriores, es decir, cuando los iterados de la condición inicial **no** llegan a donde *casi* cualquier condición inicial termina. ¿Cómo se conoce a este conjunto?"
   ]
  },
  {
   "cell_type": "code",
   "execution_count": null,
   "metadata": {},
   "outputs": [],
   "source": [
    "p = 0.5+sqrt(9.8)/2"
   ]
  },
  {
   "cell_type": "code",
   "execution_count": null,
   "metadata": {},
   "outputs": [],
   "source": [
    "x=-p:1/4096:p\n",
    "pm = []\n",
    "pM = []\n",
    "X = []\n",
    "for xo in x\n",
    "    push!(X,Qcⁿ(xo,(-2.2,5)))\n",
    "    push!(pm,-p)\n",
    "    push!(pM,p)\n",
    "end\n",
    "plot(x,X,title=\"c=-2.2\",label=\"Q^5(x)\",ylims=(-2.5,2.5),xlabel=\"x\",ylabel=\"Qc^5(x)\")\n",
    "plot!(x,pm,label=\"-p+\")\n",
    "plot!(x,pM,label=\"p+\")"
   ]
  },
  {
   "cell_type": "markdown",
   "metadata": {},
   "source": [
    "Vemos que tan solo para el quinto iterado, hay muchos subintervalos de $I = [-p_+,p_+]$ tales que el mapeo se sale del mismo intervalo $I$ y divergen hasta infinito si $n\\rightarrow\\infty$. Abajo graficamos los puntos iniciales $x_o$ para los cuáles un iterado muy grande no se sale del intervalo $I$."
   ]
  },
  {
   "cell_type": "code",
   "execution_count": null,
   "metadata": {},
   "outputs": [],
   "source": [
    "x=-p:1/8192:p\n",
    "X1 = []\n",
    "for xo in x\n",
    "    x1 = Qcⁿ(xo,(-2.2,20))\n",
    "    if abs(x1) < p\n",
    "        push!(X1,0)\n",
    "    else\n",
    "        push!(X1,1)\n",
    "    end\n",
    "end\n",
    "scatter(x,X1,ylims=(-0.5,0.5), markersize=0.1,color=:red,xlabel=\"x\",title=\"xo t.q. Qc^20 pertenece a I,con c=-2.2\", legend=false)"
   ]
  },
  {
   "cell_type": "code",
   "execution_count": null,
   "metadata": {},
   "outputs": [],
   "source": [
    "x=-p:1/8192:p\n",
    "X1 = []\n",
    "for xo in x\n",
    "    x1 = Qcⁿ(xo,(-2.2,30))\n",
    "    if abs(x1) < p\n",
    "        push!(X1,0)\n",
    "    else\n",
    "        push!(X1,1)\n",
    "    end\n",
    "end\n",
    "scatter(x,X1,ylims=(-0.5,0.5), markersize=0.1,color=:red,xlabel=\"x\",title=\"xo t.q. Qc^30 pertenece a I,conc=-2.2\", legend=false)"
   ]
  },
  {
   "cell_type": "markdown",
   "metadata": {},
   "source": [
    "Se observa que a medida que $n$ crece, los intervalos para los cuáles $Q_c^n(x)$ no sale del intervalo $I=[-p_+,p_+]$, se hacen cada vez de menor longitud porque se van partiendo en subintervalos de menor longitud."
   ]
  },
  {
   "cell_type": "code",
   "execution_count": null,
   "metadata": {},
   "outputs": [],
   "source": [
    "x=-p:0.000005:p\n",
    "X1 = []\n",
    "for xo in x\n",
    "    x1 = Qcⁿ(xo,(-2.2,60))\n",
    "    if abs(x1) < p\n",
    "        push!(X1,0)\n",
    "    else\n",
    "        push!(X1,1)\n",
    "    end\n",
    "end\n",
    "scatter(x,X1,ylims=(-0.5,0.5), markersize=0.1,color=:red,xlabel=\"x\",title=\"xo t.q. Qc^30 pertenece a I,conc=-2.2\", legend=false)"
   ]
  },
  {
   "cell_type": "markdown",
   "metadata": {},
   "source": [
    "# 6\n",
    "\n",
    "- Usando el análisis gráfico para un valor de $c$ *ligeramente* anterior al punto donde se observa la ventana de periodo 3 para la familia $Q_c(x)$, y uno en la ventana de periodo 3, concluyan el tipo de bifurcación que se observa.\n",
    "\n",
    "- Comparen la dinámica para ambos valores de $c$ del inciso anterior. ¿Cómo es el exponente de Lyapunov en cada caso?\n",
    "\n",
    "- Encuentren el valor de $c$ donde se da el ciclo superestable de periodo 3. (Nuevamente, usen el método de Newton con una buena semilla inicial para $c$.) Demuestren que para este valor de $c$ el mapeo $Q_c^3(x)$ tiene *ocho* puntos fijos, donde dos de ellos son puntos fijos de $Q_c(x)$, y los otros 6 forman dos secuencias periódicas, de periodo 3 en $Q_c(x)$, una de ellas estable y la otra inestable.\n",
    "\n",
    "(Los siguientes incisos usan el valor de $c$ encontrado en el inciso anterior.)\n",
    "\n",
    "- Denotando al ciclo inestable de periodo 3 como $\\alpha\\mapsto \\beta\\mapsto\\gamma$, con $\\gamma<\\beta<\\alpha$, uno puede asociar a cada uno de estos valores un valor $\\hat\\alpha, \\hat\\beta, \\hat\\gamma$, tales que $Q_c^3(\\hat\\alpha)=\\alpha$, $Q_c^3(\\hat\\beta)=\\beta$, $Q_c^3(\\hat\\gamma)=\\gamma$. ¿Qué podemos concluir de un punto que cae en cualquiera de los intervalos $[\\alpha,\\hat\\alpha]$, $[\\beta,\\hat\\beta]$ y $[\\hat\\gamma,\\gamma]$, en términos de los iterados sucesivos?\n",
    "\n",
    "- Definiendo los intervalos $I_0=[\\hat\\beta, \\alpha]$, $I_1=[\\gamma,\\beta]$, mostrar que bajo la acción de $Q_c(x)$ se cumple: (i) $Q_c(I_0) \\supset I_1$, y (ii) $Q_c(I_1) \\supset I_0\\cup I_1$. ¿Qué propiedad *importante* de $Q_c(x)$ se utiliza aquí?\n",
    "\n",
    "(Los intervalos $I_0$ e $I_1$, y estas propiedades, son básicos en la demostración del teorema \"periodo tres implica caos\".)"
   ]
  },
  {
   "cell_type": "code",
   "execution_count": null,
   "metadata": {},
   "outputs": [],
   "source": [
    "function bifurcación2(f,c,xo,nin)\n",
    "    C = []\n",
    "    X = [[],[],[],[],[],[],[],[],[],[],[],[],[],[],[],[],[],[],[],[],[],[],[],[],[],[],[],[],[],[],[],[]]\n",
    "    x1 = xo\n",
    "    \n",
    "    for a in c\n",
    "        for i in 1:nin\n",
    "            x1 = f(x1,a)\n",
    "        end\n",
    "        for j in 1:32\n",
    "            x1 = f(x1,a)\n",
    "            push!(X[j],x1)\n",
    "        end\n",
    "        push!(C,a)   \n",
    "    end\n",
    "    \n",
    "    p1 = scatter(C,X[1], xaxis = (\"c\", (-1.76,-1.73)), legend=false,yaxis = (\"X\"), title=\"Bifurcación x^2+c\", color=:blue)\n",
    "    for i in 2:32\n",
    "        scatter!(C,X[i], color=:blue)\n",
    "    end\n",
    "    \n",
    "    return p1\n",
    "end"
   ]
  },
  {
   "cell_type": "code",
   "execution_count": null,
   "metadata": {},
   "outputs": [],
   "source": [
    "bifurcación2((x,a)->x^2+a,-1.76:0.0005:-1.745,0.0,1000)"
   ]
  },
  {
   "cell_type": "markdown",
   "metadata": {},
   "source": [
    "Se observa que hay una rara bifurcación en el punto $c=-1.75$, donde el periodo infinito de las órbitas para $c>-1.75$ se transforma repentinamente en periodo $3$."
   ]
  },
  {
   "cell_type": "code",
   "execution_count": null,
   "metadata": {},
   "outputs": [],
   "source": [
    "E_L = lambda(Qc,0.0,1000000,-1.757:0.0001:-1.745)\n",
    "plot(-1.757:0.0001:-1.745, E_L, legend = false,xlabel=\"c\", ylabel=\"Exp. de Lyapunov\",title=\"Xo=0.1\")"
   ]
  },
  {
   "cell_type": "markdown",
   "metadata": {},
   "source": [
    "El exponente de Lyapunov es mayor a cero para $c>-1.75$, donde justamente se tienen los ciclos de periodo $2^n$ (muy grandes), cuyas órbitas con condiciones iniciales cercanas, no convergen a valores cercanos, hay caos.\n",
    "\n",
    "Justo en el valor $c=-1.75$, el exponente de Lyapunov se anula pasando a ser negativo si $c<-1.75$, lo cuál inidica que ahora las órbitas tenderán a puntos fijos de periodo finito, órbitas estables. Si continuamos barriendo $c$ se llega a un punto ($c\\approx-1.755$) en el cuál el exponente de Lyapunov diverge a $-\\infty$, lo que indica que tal $c$ genera un ciclo super estable, y es de periodo $3$, como o muestra la gráfica de la bifurcación en $c=-1.75$.\n",
    "\n",
    "El valor se aproxima con el método de Neton aplicado al mapeo $Q^3(0,c)$ empezando con $c=-1.755$."
   ]
  },
  {
   "cell_type": "code",
   "execution_count": null,
   "metadata": {},
   "outputs": [],
   "source": [
    "Q3c = c->Qcⁿ(0.0,(c,3))\n",
    "C3 = roots_newton(Q3c, -1.755)"
   ]
  },
  {
   "cell_type": "code",
   "execution_count": null,
   "metadata": {},
   "outputs": [],
   "source": [
    "x = -2:1/128:2\n",
    "\n",
    "plot(x,x->Qcⁿ(x,(C3,3)),label=\"Q^3(x)\",xlabel=\"x\",ylabel=\"Q^n(x)\")\n",
    "plot!(x,x->Qcⁿ(x,(C3,1)),label=\"Q(x)\")\n",
    "plot!(x,x->x,label=\"x\")"
   ]
  },
  {
   "cell_type": "markdown",
   "metadata": {},
   "source": [
    "Vemos que el mapeo $Q_c^3(x)$ con $c=-1.75487$, tiene $8$ puntos fijos, donde dos de ellos son también puntos fijos de $Q_c(x)$. Son $x\\approx-1,2$.\n",
    "\n",
    "Haciendo zoom en los intervalos donde se encuentran los puntos fijos y utilizando el método de Newton se encuentran tales puntos fijos del mapeo $Q_c^3(x)$."
   ]
  },
  {
   "cell_type": "code",
   "execution_count": null,
   "metadata": {},
   "outputs": [],
   "source": [
    "x = -1.775:1/512:-1.735\n",
    "\n",
    "plot(x,x->Qcⁿ(x,(C3,3)),label=\"Q^3(x)\",xlabel=\"x\",ylabel=\"Q^n(x)\")\n",
    "plot!(x,x->x,label=\"x\")"
   ]
  },
  {
   "cell_type": "code",
   "execution_count": null,
   "metadata": {},
   "outputs": [],
   "source": [
    "x = -0.15:1/512:0.15\n",
    "\n",
    "plot(x,x->Qcⁿ(x,(C3,3)),label=\"Q^3(x)\",xlabel=\"x\",ylabel=\"Q^n(x)\")\n",
    "plot!(x,x->x,label=\"x\")"
   ]
  },
  {
   "cell_type": "code",
   "execution_count": null,
   "metadata": {},
   "outputs": [],
   "source": [
    "x = 1.277:1/512:1.37\n",
    "\n",
    "plot(x,x->Qcⁿ(x,(C3,3)),label=\"Q^3(x)\",xlabel=\"x\",ylabel=\"Q^n(x)\")\n",
    "plot!(x,x->x,label=\"x\")"
   ]
  },
  {
   "cell_type": "code",
   "execution_count": null,
   "metadata": {},
   "outputs": [],
   "source": [
    "Q3x = x->Qcⁿ(x,(C3,3))-x\n",
    "r1 = roots_newton(Q3x, -1.75)\n",
    "r2 = roots_newton(Q3x, -1.74)\n",
    "r3 = roots_newton(Q3x, -1)\n",
    "r4 = roots_newton(Q3x, -0.1)\n",
    "r5 = roots_newton(Q3x, 0.0)\n",
    "r6 = roots_newton(Q3x, 1.28)\n",
    "r7 = roots_newton(Q3x, 1.32)\n",
    "r8 = roots_newton(Q3x, 2)\n",
    "\n",
    "r=[r1,r2,r3,r4,r5,r6,r7,r8]\n",
    "\n",
    "println(\"Los puntos fijos de Qc^3(x) son:\")\n",
    "for i in 1:8\n",
    "    println(\"r$i = \", r[i])\n",
    "end"
   ]
  },
  {
   "cell_type": "markdown",
   "metadata": {},
   "source": [
    "donde r1,r5 y r7 son los puntos que perteneces a la órbita estable de periodo 3.\n",
    "\n",
    "r2, r4 y r6 perteneces a otra órbita de periodo 3 pero inestable.\n",
    "\n",
    "r3 y r8 son los puntos fijos que también lo son para el mapeo $Q_c(x)$."
   ]
  },
  {
   "cell_type": "markdown",
   "metadata": {},
   "source": [
    "Observando las tres gráficas anteriores nos damos cuenta de que podemos definir intervalos para los cuáles si la condición inicial $x_o$ cae dentro de tales intervalos, ocurrira algo particular con los iterados siguientes.\n",
    "\n",
    "Definamos los siguientes puntos que ayudarán a definir tales intervalos."
   ]
  },
  {
   "cell_type": "code",
   "execution_count": null,
   "metadata": {},
   "outputs": [],
   "source": [
    "α = r7 + (r7-r6)\n",
    "β = r5 + (r5-r4)\n",
    "γ = r1 + (r1-r2)"
   ]
  },
  {
   "cell_type": "markdown",
   "metadata": {},
   "source": [
    "Ahora veamos qué pasa con muchas condiciones iniciales dentro de los intervalos siguientes:\n",
    "\n",
    "$[γ,r_1]$ , $[r_5,β]$ , $[r_7,α]$"
   ]
  },
  {
   "cell_type": "code",
   "execution_count": null,
   "metadata": {},
   "outputs": [],
   "source": [
    "x = γ:0.001:r1\n",
    "plot(x,x->Qcⁿ(x,(C3,8)),xlabel=\"x\",ylabel=\"Q^27(x)\",legend=false)"
   ]
  },
  {
   "cell_type": "code",
   "execution_count": null,
   "metadata": {},
   "outputs": [],
   "source": [
    "x = γ:0.001:r1\n",
    "plot(x,x->Qcⁿ(x,(C3,27)),xlabel=\"x\",ylabel=\"Q^27(x)\",legend=false)"
   ]
  },
  {
   "cell_type": "markdown",
   "metadata": {},
   "source": [
    "Si una condición inicial cae dentro de uno de los intervalos $[γ,r_1]$ , $[r_5,β]$ , $[r_7,α]$, la órbita va saltado de un intervalo al siguiente, al siguiente y regresa al inicial un número indefinido de veces, quedándose atrapada dentro de éstos tres intervalos y además convergiendo a los puntos fijos estables (órbita de periodo 3)."
   ]
  },
  {
   "cell_type": "markdown",
   "metadata": {},
   "source": [
    "Ahora definamos los intervalos $I_0=[β,r_7]$ y $I_1=[r_1,r_5]$"
   ]
  },
  {
   "cell_type": "code",
   "execution_count": null,
   "metadata": {},
   "outputs": [],
   "source": [
    "Io = β:1/512:r7\n",
    "I1 = r1:1/512:r5"
   ]
  },
  {
   "cell_type": "code",
   "execution_count": null,
   "metadata": {},
   "outputs": [],
   "source": [
    "plot(Io,x->Qcⁿ(x,(C3,1)),xlabel=\"x\",ylabel=\"Q^n(x)\",label=\"Qc(Io)\")\n",
    "plot!(I1,x->x,xlabel=\"x\",label=\"I1\")"
   ]
  },
  {
   "cell_type": "markdown",
   "metadata": {},
   "source": [
    "Vemos que el intervalo $I_1$ está contenido dentro de la primera aplicación con $Q_c(x)$ del intervalo $I_0$.\n",
    "\n",
    "Y en la gráfica de abjo se observa que la unión $I_oUI_1$ está contenida en la imagen de $I_1$ bajo $Q_c(x)$, $(Q_c(I_1))$.\n",
    "\n",
    "Todo lo anterior con $c=-1.7548$."
   ]
  },
  {
   "cell_type": "code",
   "execution_count": null,
   "metadata": {},
   "outputs": [],
   "source": [
    "plot(I1,x->Qcⁿ(x,(C3,1)),xlabel=\"x\",ylabel=\"Q^n(x)\",label=\"Qc(I1)\")\n",
    "plot!(I1,x->x,xlabel=\"x\",label=\"I1\")\n",
    "plot!(Io,x->x,xlabel=\"x\",label=\"Io\")"
   ]
  }
 ],
 "metadata": {
  "kernelspec": {
   "display_name": "Julia 1.0.0",
   "language": "julia",
   "name": "julia-1.0"
  },
  "language_info": {
   "file_extension": ".jl",
   "mimetype": "application/julia",
   "name": "julia",
   "version": "1.0.0"
  }
 },
 "nbformat": 4,
 "nbformat_minor": 2
}
