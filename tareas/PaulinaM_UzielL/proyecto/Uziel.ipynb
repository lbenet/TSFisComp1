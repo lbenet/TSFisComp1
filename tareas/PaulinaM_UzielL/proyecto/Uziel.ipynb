{
 "cells": [
  {
   "cell_type": "markdown",
   "metadata": {},
   "source": [
    "# Mapeos en 2D: Modelos Poblacionales\n"
   ]
  },
  {
   "cell_type": "markdown",
   "metadata": {},
   "source": [
    "## Modelo de Competencia"
   ]
  },
  {
   "cell_type": "code",
   "execution_count": null,
   "metadata": {},
   "outputs": [],
   "source": []
  },
  {
   "cell_type": "markdown",
   "metadata": {},
   "source": [
    "## Modelo Presa-Depredador"
   ]
  },
  {
   "cell_type": "markdown",
   "metadata": {},
   "source": [
    "El modelo presentado aquí es el propuesto por Neubert y Kot, este es fácilmente derivable del modelo del tipo Lotka-Volterra\n",
    "\n",
    "$$\n",
    "\\dfrac{dN}{dt} = \\bigg(1 - \\dfrac{N}{K}\\bigg)rN - eNP\\\\\n",
    "\\dfrac{dP}{dt} = bNP - dP\n",
    "$$\n",
    "\n",
    "Para obtener el modelo discreto basta aproximar las derivadas mediante\n",
    "\n",
    "$$\n",
    "\\dfrac{df}{dt}\\approx\\dfrac{f(x+h)-f(x)}{h}\n",
    "$$\n",
    "\n",
    "Tomando pasos discretos, esto es $h=1$, se obtienen las ecuaciones deseadas\n",
    "\n",
    "$$\n",
    "N_{t+1} = N_t + rN_t\\bigg(1 - \\dfrac{N_t}{K}\\bigg)-eN_tP_t\\\\\n",
    "P_{t+1}=bN_tP_t+\\bigg(1-d\\bigg)P_t\n",
    "$$\n",
    "\n",
    "En donde\n",
    "\n",
    "$$\n",
    "N_t:\\text{La densidad de las presas al tiempo $t$}\\\\\n",
    "P_t:\\text{La densidad de depredadores al tiempo $t$}\\\\\n",
    "r, e, b, d, K \\text{ son constantes positivas}\n",
    "$$\n",
    "\n",
    "Los puntos de equilibrio del sistema reducido son\n",
    "\n",
    "$$\n",
    "X^0 =(0, 0)\\\\\n",
    "X^1=(1, 0)\\\\\n",
    "X^*=\\bigg(\\dfrac{1}{c}, \\dfrac{r(c-1)}{c^2}\\bigg)\n",
    "$$\n",
    "\n",
    "Con eigenvalores\n",
    "\n",
    "$$\n",
    "\\lambda_1^0=r+1, \\lambda_2^0=0\\\\\n",
    "\\lambda_1^1=1-r, \\lambda_2^1=c\\\\\n",
    "\\lambda^*_{1,2}=1-\\dfrac{1}{2c}\\bigg\\{r\\pm[r^2+4rc(1-c)]^{1/2}\\bigg\\}\n",
    "$$"
   ]
  },
  {
   "cell_type": "code",
   "execution_count": null,
   "metadata": {},
   "outputs": [],
   "source": [
    "function lotka_volterr"
   ]
  }
 ],
 "metadata": {
  "kernelspec": {
   "display_name": "Julia 0.6.4",
   "language": "julia",
   "name": "julia-0.6"
  },
  "language_info": {
   "file_extension": ".jl",
   "mimetype": "application/julia",
   "name": "julia",
   "version": "0.6.4"
  }
 },
 "nbformat": 4,
 "nbformat_minor": 2
}
