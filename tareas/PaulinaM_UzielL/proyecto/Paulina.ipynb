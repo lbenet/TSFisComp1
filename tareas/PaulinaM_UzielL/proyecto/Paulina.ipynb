{
 "cells": [
  {
   "cell_type": "markdown",
   "metadata": {},
   "source": [
    "# Dinámica Poblacional: Sistemas Discretos en 2D"
   ]
  },
  {
   "cell_type": "markdown",
   "metadata": {},
   "source": [
    "### Marco teórico"
   ]
  },
  {
   "cell_type": "code",
   "execution_count": null,
   "metadata": {},
   "outputs": [],
   "source": []
  },
  {
   "cell_type": "markdown",
   "metadata": {},
   "source": [
    "## Objetivos"
   ]
  },
  {
   "cell_type": "markdown",
   "metadata": {},
   "source": [
    "(1) Extender a dos dimensiones las definiciones, teoremas, y conceptos estudiados en el curso acerca de sistemas dinamicos discretos.\n",
    "\n",
    "(2) Aplicar la teoria desarrollada en el curso para el modelaje de dinamica poblacional.\n",
    "\n",
    "(3) Determinar el ajuste del modelo desarrollado respecto a algunos estudios de caso. "
   ]
  },
  {
   "cell_type": "markdown",
   "metadata": {},
   "source": []
  },
  {
   "cell_type": "markdown",
   "metadata": {},
   "source": [
    "## Nociones básicas"
   ]
  },
  {
   "cell_type": "markdown",
   "metadata": {},
   "source": [
    "#### (a) Capacidad de carga (K)\n",
    "\n",
    "- El tamaño poblacional máximo que un ambiente puede soportar para cierta especie durante un tiempo determinado. Es una función del suministro de recursos como alimentos, agua, espacio, etc ().\n",
    "\n",
    "\n",
    "- El límite intrínseco de aumento en la población de cierta especie (Sayre, 2007).\n",
    "\n",
    "\n",
    "#### (b) Tasa de crecimiento intrínseco (r)\n",
    "\n",
    "\n",
    "\n",
    "\n",
    "#### (c) Predación\n",
    "\n",
    "“El consumo de un organismo vivo por otro”. \n",
    "    A diferencia de otros organismos heterótrofos (i.e. adquieren su energía al consumir materia orgánica), los depredadores se alimentan de organismos vivos, por lo que funcionan como agentes de mortalidad con el potencial de regular las poblaciones de sus presas.\n",
    "\n",
    "- Al ser el recurso alimentario, la población de presas tiene el potencial de influir en la tasa de crecimiento de la población depredadora.\n",
    "\n",
    "\n",
    "\n"
   ]
  },
  {
   "cell_type": "markdown",
   "metadata": {},
   "source": [
    "## Algunas consideraciones acerca de los sistemas dinámicos poblacionales"
   ]
  },
  {
   "cell_type": "markdown",
   "metadata": {},
   "source": [
    "(1) La mayoría de sistemas naturales se encuentran en un estado de coexistencia en el equilibrio.\n",
    "\n",
    "(2) Implícitamente, los modelos poblaciones son dependientes de la densidad poblacional.\n",
    "\n",
    "(2) Los modelos de presa-depredador, en su mayoría, presentan 3 puntos fijos que corresponden a:\n",
    "- La extinción de ambas especies\n",
    "- La extinción del depredador y la supervivencia de la presa (y su capacidad de carga total)\n",
    "- La coexistencia de ambas especies.\n",
    "\n"
   ]
  },
  {
   "cell_type": "code",
   "execution_count": null,
   "metadata": {},
   "outputs": [],
   "source": []
  },
  {
   "cell_type": "markdown",
   "metadata": {},
   "source": [
    "For example, population density can infl uence patterns\n",
    "of predation or the spread of disease and parasites (see\n",
    "Chapters 15 and 16 ).\n",
    "\n",
    "\n",
    "Density-dependent mechanisms have also been identifi\n",
    "ed that reduce rates of birth and survival at low population\n",
    "densities, referred to as the Allee effect\n",
    "\n",
    "Fitness depend on pop density\n",
    "\n",
    "\n",
    "Other factors that can directly infl uence rates of birth and\n",
    "death function independently of population density. If some environmental\n",
    "factor"
   ]
  },
  {
   "cell_type": "code",
   "execution_count": null,
   "metadata": {},
   "outputs": [],
   "source": []
  },
  {
   "cell_type": "code",
   "execution_count": 2,
   "metadata": {},
   "outputs": [],
   "source": [
    "using ForwardDiff"
   ]
  },
  {
   "cell_type": "code",
   "execution_count": 4,
   "metadata": {},
   "outputs": [
    {
     "data": {
      "text/markdown": [
       "```\n",
       "ForwardDiff.jacobian(f, x::AbstractArray, cfg::JacobianConfig = JacobianConfig(f, x), check=Val{true}())\n",
       "```\n",
       "\n",
       "Return `J(f)` evaluated at `x`, assuming `f` is called as `f(x)`.\n",
       "\n",
       "This method assumes that `isa(f(x), AbstractArray)`.\n",
       "\n",
       "Set `check` to `Val{false}()` to disable tag checking. This can lead to perturbation confusion, so should be used with care.\n",
       "\n",
       "```\n",
       "ForwardDiff.jacobian(f!, y::AbstractArray, x::AbstractArray, cfg::JacobianConfig = JacobianConfig(f!, y, x), check=Val{true}())\n",
       "```\n",
       "\n",
       "Return `J(f!)` evaluated at `x`,  assuming `f!` is called as `f!(y, x)` where the result is stored in `y`.\n",
       "\n",
       "Set `check` to `Val{false}()` to disable tag checking. This can lead to perturbation confusion, so should be used with care.\n"
      ],
      "text/plain": [
       "```\n",
       "ForwardDiff.jacobian(f, x::AbstractArray, cfg::JacobianConfig = JacobianConfig(f, x), check=Val{true}())\n",
       "```\n",
       "\n",
       "Return `J(f)` evaluated at `x`, assuming `f` is called as `f(x)`.\n",
       "\n",
       "This method assumes that `isa(f(x), AbstractArray)`.\n",
       "\n",
       "Set `check` to `Val{false}()` to disable tag checking. This can lead to perturbation confusion, so should be used with care.\n",
       "\n",
       "```\n",
       "ForwardDiff.jacobian(f!, y::AbstractArray, x::AbstractArray, cfg::JacobianConfig = JacobianConfig(f!, y, x), check=Val{true}())\n",
       "```\n",
       "\n",
       "Return `J(f!)` evaluated at `x`,  assuming `f!` is called as `f!(y, x)` where the result is stored in `y`.\n",
       "\n",
       "Set `check` to `Val{false}()` to disable tag checking. This can lead to perturbation confusion, so should be used with care.\n"
      ]
     },
     "execution_count": 4,
     "metadata": {},
     "output_type": "execute_result"
    }
   ],
   "source": [
    "?ForwardDiff.jacobian"
   ]
  },
  {
   "cell_type": "code",
   "execution_count": 17,
   "metadata": {},
   "outputs": [
    {
     "data": {
      "text/plain": [
       "f (generic function with 1 method)"
      ]
     },
     "execution_count": 17,
     "metadata": {},
     "output_type": "execute_result"
    }
   ],
   "source": [
    "f(x) = [x[1]^2 + x[2]^3 + 3*x[3]]"
   ]
  },
  {
   "cell_type": "code",
   "execution_count": 18,
   "metadata": {},
   "outputs": [
    {
     "data": {
      "text/plain": [
       "true"
      ]
     },
     "execution_count": 18,
     "metadata": {},
     "output_type": "execute_result"
    }
   ],
   "source": [
    "isa(f([4,5,1]), AbstractArray)"
   ]
  },
  {
   "cell_type": "code",
   "execution_count": 19,
   "metadata": {},
   "outputs": [
    {
     "data": {
      "text/plain": [
       "1×3 Array{Int64,2}:\n",
       " 8  75  3"
      ]
     },
     "execution_count": 19,
     "metadata": {},
     "output_type": "execute_result"
    }
   ],
   "source": [
    "ForwardDiff.jacobian(f, [4,5,6])"
   ]
  },
  {
   "cell_type": "code",
   "execution_count": null,
   "metadata": {},
   "outputs": [],
   "source": []
  },
  {
   "cell_type": "code",
   "execution_count": null,
   "metadata": {},
   "outputs": [],
   "source": []
  },
  {
   "cell_type": "code",
   "execution_count": null,
   "metadata": {},
   "outputs": [],
   "source": []
  },
  {
   "cell_type": "markdown",
   "metadata": {},
   "source": [
    "## Referencias"
   ]
  },
  {
   "cell_type": "code",
   "execution_count": null,
   "metadata": {},
   "outputs": [],
   "source": [
    "https://www.nps.gov/isro/learn/nature/wolf-moose-populations.htm\n",
    "\n",
    "http://www2.nau.edu/lrm22/lessons/predator_prey/predator_prey.html\n",
    "\n"
   ]
  }
 ],
 "metadata": {
  "kernelspec": {
   "display_name": "Julia 0.6.4",
   "language": "julia",
   "name": "julia-0.6"
  },
  "language_info": {
   "file_extension": ".jl",
   "mimetype": "application/julia",
   "name": "julia",
   "version": "0.6.4"
  }
 },
 "nbformat": 4,
 "nbformat_minor": 2
}
