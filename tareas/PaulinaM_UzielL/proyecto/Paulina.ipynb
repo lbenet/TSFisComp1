{
 "cells": [
  {
   "cell_type": "markdown",
   "metadata": {},
   "source": [
    "# Dinámica Poblacional: Sistemas Discretos en 2D"
   ]
  },
  {
   "cell_type": "markdown",
   "metadata": {},
   "source": [
    "## 1. Objetivos"
   ]
  },
  {
   "cell_type": "markdown",
   "metadata": {},
   "source": [
    "(1) Extender a dos dimensiones las definiciones, teoremas, y conceptos estudiados en el curso acerca de sistemas dinamicos discretos.\n",
    "\n",
    "(2) Aplicar la teoria desarrollada en el curso para el modelaje de dinamica poblacional.\n",
    "\n",
    "(3) Determinar el ajuste del modelo desarrollado respecto a algunos estudios de caso. "
   ]
  },
  {
   "cell_type": "markdown",
   "metadata": {},
   "source": []
  },
  {
   "cell_type": "markdown",
   "metadata": {},
   "source": [
    "## 3. Nociones básicas"
   ]
  },
  {
   "cell_type": "markdown",
   "metadata": {},
   "source": [
    "### (a) Tasa de natalidad (b)\n",
    "\n",
    "$$b = b_0 - aN$$ \n",
    "\n",
    "donde \n",
    "\n",
    "$b_0$ es la tasa de natalidad bajo condiciones ideales (obtenido a aprtir del modelo exponencial).\n",
    "\n",
    "$a$ representa el aumento de la tasa de natalidad con el incremento de la población\n",
    "\n",
    "$N$ representa el tamaño poblacional\n",
    "\n",
    "\n",
    "\n",
    "### (b) Tasa de mortalidad (d)\n",
    "\n",
    "Medida del número de individuos que mueren en una poblacion durante un determinado intervalo de tiempo.\n",
    "\n",
    "$$d = d_0 + c'N$$ \n",
    "\n",
    "donde \n",
    "\n",
    "$d_0$ es la tasa de mortalidad cuando el tamaño poblacional se acerca a cero\n",
    "\n",
    "$c'$ representa el aumento de la tasa de mortalidad con el incremento de la población\n",
    "\n",
    "$N$ representa el tamaño poblacional\n",
    "\n",
    "\n",
    "### (c) Tasa de crecimiento intrínseco (r)\n",
    "\n",
    "- Un valor que cuantifica cuánto puede crecer una población entre períodos sucesivos de tiempo.\n",
    "\n",
    "- La tasa teórica máxima de incremento por individuo en una población, es decir, la tasa máxima de crecimiento de la población.\n",
    "\n",
    "\n",
    "$$ r = \\dfrac{ln(N(t_2))-ln(N(t_1))}{(t_2 - t_1)} $$\n",
    "\n",
    "\n",
    "### (d) Capacidad de carga (K)\n",
    "\n",
    "\n",
    "- El tamaño poblacional máximo que un ambiente puede soportar para cierta especie durante un tiempo determinado. Es una función del suministro de recursos como alimentos, agua, espacio, etc ().\n",
    "\n",
    "\n",
    "- El límite intrínseco de aumento en la población de cierta especie (Sayre, 2007).\n",
    "\n",
    "$$K = \\dfrac{(b_0 -d_0)}{a + c'}$$\n",
    "\n",
    "\n",
    "### (e) \"Foraging\" (Forrajeo o búsqueda de alimento)\n",
    "\n",
    "Todas aquellas conductas asociadas tanto a la obtención como al consumo del alimento. Por ejemplo: buscar, manipular y digerir la comida (Instituto de Ecología, UNAM).\n",
    "\n",
    "\n",
    "\n",
    "### (f) Depredación\n",
    "\n",
    "“El consumo de un organismo vivo por otro”. \n",
    "    A diferencia de otros organismos heterótrofos (i.e. adquieren su energía al consumir materia orgánica), los depredadores se alimentan de organismos vivos, por lo que funcionan como agentes de mortalidad con el potencial de regular las poblaciones de sus presas.\n",
    "\n",
    "#### Además...\n",
    "- Al ser el recurso alimentario, la población de presas tiene el potencial de influir en la tasa de crecimiento de la población depredadora.\n",
    "\n",
    "\n",
    "\n"
   ]
  },
  {
   "cell_type": "markdown",
   "metadata": {},
   "source": [
    "## 4. Algunas consideraciones sobre la dinámica de poblaciones"
   ]
  },
  {
   "cell_type": "markdown",
   "metadata": {},
   "source": [
    "**(1)** La mayoría de sistemas naturales se encuentran en un estado de coexistencia en el equilibrio.\n",
    "\n",
    "**(2)** Implícitamente, los modelos poblaciones son dependientes de la densidad poblacional.\n",
    "\n",
    "**(3)** En los modelos de presa-depredador se presupone que...\n",
    "\n",
    "- La depredación es la interacción más importante que determina el tamaño poblacional de las especies involucradas.\n",
    "\n",
    "- La fuente principal de alimentos para el depredador es la presa.\n",
    "\n",
    "**(4)** Los modelos de presa-depredador, en su mayoría, presentan 3 puntos fijos que corresponden a:\n",
    "- La extinción de ambas especies\n",
    "- La extinción del depredador y la supervivencia de la presa (y su capacidad de carga total)\n",
    "- La coexistencia de ambas especies.\n"
   ]
  },
  {
   "cell_type": "markdown",
   "metadata": {},
   "source": [
    "###For example, population density can infl uence patterns\n",
    "of predation or the spread of disease and parasites (see\n",
    "Chapters 15 and 16 ).\n",
    "\n",
    "\n",
    "Density-dependent mechanisms have also been identifi\n",
    "ed that reduce rates of birth and survival at low population\n",
    "densities, referred to as the Allee effect\n",
    "\n",
    "Fitness depend on pop density\n",
    "\n",
    "\n",
    "Other factors that can directly infl uence rates of birth and\n",
    "death function independently of population density. If some environmental\n",
    "factor"
   ]
  },
  {
   "cell_type": "markdown",
   "metadata": {},
   "source": [
    "## 5. Derivación del modelo de Lotka-Volterra"
   ]
  },
  {
   "cell_type": "markdown",
   "metadata": {},
   "source": [
    "Para modelar la interacción de depredación entre dos especies primero pensemos en la dinámica de ambas especies por separado:"
   ]
  },
  {
   "cell_type": "markdown",
   "metadata": {},
   "source": [
    "### Para la presa..."
   ]
  },
  {
   "cell_type": "markdown",
   "metadata": {},
   "source": [
    "Al tomar el modelo más simple, la densidad poblacional de la presa $N_t$ estaría dada por:\n",
    "\n",
    "$$ N_t = [b - d]N $$\n",
    "$$ N_t = [(b_0 - aN) - (d_0 + c'N)]N $$\n",
    "\n",
    "Si suponemos que el máximo tamaño poblacional que puede soportar el ambiente se alcanza cuando la tasa de natalidad es igual a la tasa de mortalidad ($b = d$) obtenemos que: \n",
    "\n",
    "$$ N_t = [(b_0 - aN) - (d_0 + cN)]N = 0 $$\n",
    "$$ N = \\dfrac{b_0 - d_0}{a + c'} $$\n",
    "\n",
    "Entonces definimos a la variable $K = \\dfrac{b_0 - d_0}{a + c'}$ como la \n",
    "**capacidad de carga** y a la variable $r = \\dfrac{ln(N(t_2))-ln(N(t_1))}{t_2 - t_1}$ como el **crecimiento intrínseco de la población** para obtener una ecuación en terminos de las tasas de mortalidad y natalidad, y la capacidad de carga K: \n",
    "\n",
    "$$ N_t = rN\\bigg(1 - \\dfrac{N}{K}\\bigg)$$\n"
   ]
  },
  {
   "cell_type": "markdown",
   "metadata": {},
   "source": [
    "### Para el depredador ..."
   ]
  },
  {
   "cell_type": "markdown",
   "metadata": {},
   "source": [
    "Por otro lado, debido a que la presa es la principal fuente alimenticia del depredador tendríamos que:\n",
    "\n",
    "$$ P_t = -uP $$\n",
    "\n",
    "donde ** $u$ ** es la **tasa de mortalidad per capita** que puede alcanzar un valor máximo de 1.\n"
   ]
  },
  {
   "cell_type": "markdown",
   "metadata": {},
   "source": [
    "### Para la interacción de ambas especies.."
   ]
  },
  {
   "cell_type": "markdown",
   "metadata": {},
   "source": [
    "Si suponemos que la interacción entre las dos especies se comporta como la **ley de acción de masas**, podemos introducir al parámetro $PQ$ para representar la interacción entre ambas especies:\n",
    "\n",
    "$$P_{t+1}= P_t \\bigg(1 + r\\bigg(\\dfrac{1 − Pt}{K}\\bigg)\\bigg) − sPt Qt $$\n",
    "\n",
    "$$Q_{t+1} = (1 − u)Qt + vP_t Q_t $$\n",
    "\n",
    "donde $s$ y $v$ denotan constantes positivas que representan el efecto de la interacción de depredación sobre cada uno de las especies (el efecto no necesariamente es simétrico)."
   ]
  },
  {
   "cell_type": "markdown",
   "metadata": {},
   "source": [
    "## 7. Discusion/Conclusiones"
   ]
  },
  {
   "cell_type": "markdown",
   "metadata": {},
   "source": [
    "The fact that the predator–prey model often shows repeated oscillations\n",
    "is intriguing. Might it be possible for a predator–prey interaction to lead to\n",
    "stable oscillations that, unlike those in the figures here, do not “damp out”?\n",
    "Could two populations in nature endlessly cycle in size?\n",
    "\n",
    "Are there real predator and prey populations that behave in an oscillatory\n",
    "fashion, even for a short time?\n",
    "Certainly, there is widespread evidence of a large prey population being\n",
    "followed by a growth in predators, which then is followed by a decline in\n",
    "prey, and then a decline in predators. One obvious example is in human hunting\n",
    "societies over-exploiting their food sources. Bird and insects, as well as\n",
    "mammal predator–prey pairs, also exhibit such growth and decline. However,\n",
    "these cycles usually “damp out” to an approximate equilibrium, or lead to the\n",
    "extermination of one of the populations. There is little unequivocal evidence\n",
    "from nature of long-term repeated oscillations, although carefully controlled\n",
    "laboratory experiments have shown oscillations.\n",
    "Sustained oscillations of constant size would require a very delicate balance\n",
    "that is unlikely in real populations. Mathematically, we say such systems\n",
    "are structurally unstable, in that slight changes to the model cause the\n",
    "oscillations to either shrink or grow. Because of the complexity of biological\n",
    "systems, numerous factors left out of our model are likely to prevent\n",
    "regular, constant-size oscillations to continue for any significant length of\n",
    "time.\n",
    "\n",
    "\n",
    "\n",
    "\n",
    "- Even for species experiencing many other interactions, the model we develop\n",
    "can be viewed as a first step to understanding one contributing factor\n",
    "in population dynamics."
   ]
  },
  {
   "cell_type": "markdown",
   "metadata": {},
   "source": [
    "## 8. Referencias"
   ]
  },
  {
   "cell_type": "markdown",
   "metadata": {},
   "source": [
    "https://www.nps.gov/isro/learn/nature/wolf-moose-populations.htm\n",
    "\n",
    "http://www2.nau.edu/lrm22/lessons/predator_prey/predator_prey.html\n",
    "\n",
    "http://web.ecologia.unam.mx/oikos3.0/index.php/articulos/ecologia-nutricional/17-recuadros/338-forrajeo\n",
    "\n"
   ]
  }
 ],
 "metadata": {
  "kernelspec": {
   "display_name": "Julia 0.6.4",
   "language": "julia",
   "name": "julia-0.6"
  },
  "language_info": {
   "file_extension": ".jl",
   "mimetype": "application/julia",
   "name": "julia",
   "version": "0.6.4"
  }
 },
 "nbformat": 4,
 "nbformat_minor": 2
}
