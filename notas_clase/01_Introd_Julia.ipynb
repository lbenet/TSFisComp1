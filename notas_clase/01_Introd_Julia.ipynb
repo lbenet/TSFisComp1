{
 "cells": [
  {
   "cell_type": "markdown",
   "metadata": {},
   "source": [
    "# Introducción a Julia"
   ]
  },
  {
   "cell_type": "markdown",
   "metadata": {},
   "source": [
    "**NOTA** El texto canónico de referencia es el manual de Julia: http://docs.julialang.org/ . Sean cautelosos de escoger la versión apropiada del manual en relación con la versión de Julia que utilicen. Estas notas se han hecho para Julia 0.6.x, y excepto donde se indique, deberían funcionar en 0.7.0 también.\n",
    "\n",
    "Una **buena** manera de iniciarse en Julia es seguir alguno de los cursos introductorios recientes Jane Herriman, por ejemplo, [Introduction to Julia (2018)](https://www.youtube.com/watch?v=cPYgipsg4DM)."
   ]
  },
  {
   "cell_type": "markdown",
   "metadata": {},
   "source": [
    "## 1. Julia como calculadora"
   ]
  },
  {
   "cell_type": "markdown",
   "metadata": {},
   "source": [
    "Todo lo que aparece después de `#` es un comentario."
   ]
  },
  {
   "cell_type": "code",
   "execution_count": null,
   "metadata": {},
   "outputs": [],
   "source": [
    "1 + 1 # <shift>+<enter> para obtener el resultado"
   ]
  },
  {
   "cell_type": "markdown",
   "metadata": {},
   "source": [
    "Números como $\\pi$ están definidos:"
   ]
  },
  {
   "cell_type": "code",
   "execution_count": null,
   "metadata": {},
   "outputs": [],
   "source": [
    "pi"
   ]
  },
  {
   "cell_type": "markdown",
   "metadata": {},
   "source": [
    "Esto mismo se puede escribir de manera *más atractiva* como $\\pi$, tecleando `\\pi<TAB>`, lo que recuerda mucho a LaTeX (y que no es casual!). Aquí, <TAB> significa que hay que apretar la tecla `<TAB>`."
   ]
  },
  {
   "cell_type": "code",
   "execution_count": null,
   "metadata": {},
   "outputs": [],
   "source": [
    "π # \\pi<TAB>"
   ]
  },
  {
   "cell_type": "code",
   "execution_count": null,
   "metadata": {},
   "outputs": [],
   "source": [
    "γ # \\gamma<TAB>"
   ]
  },
  {
   "cell_type": "markdown",
   "metadata": {},
   "source": [
    "Julia permite usar otro tipo de números, por ejemplo, números racionales o complejos."
   ]
  },
  {
   "cell_type": "code",
   "execution_count": null,
   "metadata": {},
   "outputs": [],
   "source": [
    "1//2 + 1//3"
   ]
  },
  {
   "cell_type": "code",
   "execution_count": null,
   "metadata": {},
   "outputs": [],
   "source": [
    "1.0 + 2im"
   ]
  },
  {
   "cell_type": "code",
   "execution_count": null,
   "metadata": {},
   "outputs": [],
   "source": [
    "1/2 + complex(1,2)"
   ]
  },
  {
   "cell_type": "code",
   "execution_count": null,
   "metadata": {},
   "outputs": [],
   "source": [
    "-0.0 * 2"
   ]
  },
  {
   "cell_type": "code",
   "execution_count": null,
   "metadata": {},
   "outputs": [],
   "source": [
    "1.0 / 0.0"
   ]
  },
  {
   "cell_type": "code",
   "execution_count": null,
   "metadata": {},
   "outputs": [],
   "source": [
    "0.0 / 0.0"
   ]
  },
  {
   "cell_type": "markdown",
   "metadata": {},
   "source": [
    "Cierto tipo de operaciones da errores:"
   ]
  },
  {
   "cell_type": "code",
   "execution_count": null,
   "metadata": {},
   "outputs": [],
   "source": [
    "sqrt(-2.0)"
   ]
  },
  {
   "cell_type": "markdown",
   "metadata": {},
   "source": [
    "Esto se debe a un concepto importante de *estabilidad de tipo*, que describiremos adelante. Si uno lee con calma el mensaje de error, da la manera en que uno puede obtener la respuesta:"
   ]
  },
  {
   "cell_type": "code",
   "execution_count": null,
   "metadata": {},
   "outputs": [],
   "source": [
    "sqrt( complex(-2,0.0) )"
   ]
  },
  {
   "cell_type": "markdown",
   "metadata": {},
   "source": [
    "Julia entiende varias funciones elementales: `sqrt`, `exp`, `sin`, etc, que se pueden usar con las distintas formas de números; la potencia se obtiene con `^`."
   ]
  },
  {
   "cell_type": "code",
   "execution_count": null,
   "metadata": {},
   "outputs": [],
   "source": [
    "1.0^2"
   ]
  },
  {
   "cell_type": "code",
   "execution_count": null,
   "metadata": {},
   "outputs": [],
   "source": [
    "exp(1.0 + 2im)"
   ]
  },
  {
   "cell_type": "markdown",
   "metadata": {},
   "source": [
    "La asignación de variables se hace de la manera usual:"
   ]
  },
  {
   "cell_type": "code",
   "execution_count": null,
   "metadata": {},
   "outputs": [],
   "source": [
    "α = 2.17 # \\alpha<TAB>"
   ]
  },
  {
   "cell_type": "markdown",
   "metadata": {},
   "source": [
    "Simplemente hay que recordar que `=` se usa para asignar *el valor* que aparece del lado derecho, a la variable que se define del lado izquierdo; escribir esto al revés genera errores."
   ]
  },
  {
   "cell_type": "code",
   "execution_count": null,
   "metadata": {},
   "outputs": [],
   "source": [
    "2.17 = α"
   ]
  },
  {
   "cell_type": "markdown",
   "metadata": {},
   "source": [
    "## 2. Estructuras o tipos"
   ]
  },
  {
   "cell_type": "markdown",
   "metadata": {},
   "source": [
    "Las estructuras, o tipos, son centrales en Julia. La instrucción `typeof` sirve para saber el tipo de estructura de una variable o algún valor."
   ]
  },
  {
   "cell_type": "code",
   "execution_count": null,
   "metadata": {},
   "outputs": [],
   "source": [
    "typeof(1.0)"
   ]
  },
  {
   "cell_type": "code",
   "execution_count": null,
   "metadata": {},
   "outputs": [],
   "source": [
    "typeof(1)"
   ]
  },
  {
   "cell_type": "code",
   "execution_count": null,
   "metadata": {},
   "outputs": [],
   "source": [
    "typeof(π)"
   ]
  },
  {
   "cell_type": "code",
   "execution_count": null,
   "metadata": {},
   "outputs": [],
   "source": [
    "typeof(1 + 2.0im)"
   ]
  },
  {
   "cell_type": "code",
   "execution_count": null,
   "metadata": {},
   "outputs": [],
   "source": [
    "typeof(1//2)"
   ]
  },
  {
   "cell_type": "markdown",
   "metadata": {},
   "source": [
    "La instrucción `ans` es un atajo para referirse al último resultado obtenido, y sólo se utiliza en cálculos interactivos."
   ]
  },
  {
   "cell_type": "markdown",
   "metadata": {},
   "source": [
    "Las estructuras, o tipos, tienen un significado importante no sólo en el sentido de \"las matemáticas\", sino también en el sentido de cómo están representadas en la memoria."
   ]
  },
  {
   "cell_type": "markdown",
   "metadata": {},
   "source": [
    "Para ilustrar esto, usaremos `==`, que verifica la identidad numérica:"
   ]
  },
  {
   "cell_type": "code",
   "execution_count": null,
   "metadata": {},
   "outputs": [],
   "source": [
    "1 == 1.0 "
   ]
  },
  {
   "cell_type": "markdown",
   "metadata": {},
   "source": [
    "Para verificar la identidad de la representación en memoria, es decir, que los dos objetos son idénticos e indistinguibles, usamos `===`:"
   ]
  },
  {
   "cell_type": "code",
   "execution_count": null,
   "metadata": {},
   "outputs": [],
   "source": [
    "1 === 1.0"
   ]
  },
  {
   "cell_type": "markdown",
   "metadata": {},
   "source": [
    "Las siguientes celdas muestran otro ejemplo curioso:"
   ]
  },
  {
   "cell_type": "code",
   "execution_count": null,
   "metadata": {},
   "outputs": [],
   "source": [
    "-0.0 * 2"
   ]
  },
  {
   "cell_type": "code",
   "execution_count": null,
   "metadata": {},
   "outputs": [],
   "source": [
    "-0.0 == 0.0"
   ]
  },
  {
   "cell_type": "code",
   "execution_count": null,
   "metadata": {},
   "outputs": [],
   "source": [
    "-0.0 === 0.0"
   ]
  },
  {
   "cell_type": "markdown",
   "metadata": {},
   "source": [
    "El resultado anterior muestra que \"1\" y \"1.0\" son distintos internamente, ya que uno es un `Int64` (en algunas máquinas puede ser un `Int32`) y el otro es un `Float64`."
   ]
  },
  {
   "cell_type": "markdown",
   "metadata": {},
   "source": [
    "El diseño de Julia es tal que, si uno es demasiado ingenuo o descuidado, puede llevar a obtener resultados \"erróneos\". Por ejemplo:"
   ]
  },
  {
   "cell_type": "code",
   "execution_count": null,
   "metadata": {},
   "outputs": [],
   "source": [
    "2^63 - 1"
   ]
  },
  {
   "cell_type": "code",
   "execution_count": null,
   "metadata": {},
   "outputs": [],
   "source": [
    "ans + 1"
   ]
  },
  {
   "cell_type": "markdown",
   "metadata": {},
   "source": [
    "La \"inconsistencia\" anterior, de hecho, no es tal, ya que los enteros `Int64` (o `Int32`) son modulares. Si uno no quiere tener que lidiar con estas sutilezas, y está dispuesto a tener programas más lentos, uno puede usar precisión extendida:"
   ]
  },
  {
   "cell_type": "code",
   "execution_count": null,
   "metadata": {},
   "outputs": [],
   "source": [
    "big(2)^63 - 1"
   ]
  },
  {
   "cell_type": "code",
   "execution_count": null,
   "metadata": {},
   "outputs": [],
   "source": [
    "ans + 1"
   ]
  },
  {
   "cell_type": "code",
   "execution_count": null,
   "metadata": {},
   "outputs": [],
   "source": [
    "typeof(ans)"
   ]
  },
  {
   "cell_type": "markdown",
   "metadata": {},
   "source": [
    "De igual manera, hay números de punto flotante de precisión extendida. Noten que hay dos formas de generarlos, y el resultado es distinto."
   ]
  },
  {
   "cell_type": "code",
   "execution_count": null,
   "metadata": {},
   "outputs": [],
   "source": [
    "big(0.1)"
   ]
  },
  {
   "cell_type": "markdown",
   "metadata": {},
   "source": [
    "Esta forma da un resultado *inusual*, ya que lo que está haciendo es convertirel número de punto flotante `0.1` a `BigFloat`, que no necesariamente es el número \"real\" (en el sentido estricto de las matemáticas) `1//10`. Es por esto que tenemos:"
   ]
  },
  {
   "cell_type": "code",
   "execution_count": null,
   "metadata": {},
   "outputs": [],
   "source": [
    "1//10 < 0.1"
   ]
  },
  {
   "cell_type": "markdown",
   "metadata": {},
   "source": [
    "Si queremos una representación en precisión extendida de `0.1` usamos:"
   ]
  },
  {
   "cell_type": "code",
   "execution_count": null,
   "metadata": {},
   "outputs": [],
   "source": [
    "parse(BigFloat, \"0.1\")"
   ]
  },
  {
   "cell_type": "markdown",
   "metadata": {},
   "source": [
    "Nuevamente, este resultado no es el número real 0.1, pero definitivamente es mejor aproximación."
   ]
  },
  {
   "cell_type": "markdown",
   "metadata": {},
   "source": [
    "## Vectores y matrices"
   ]
  },
  {
   "cell_type": "markdown",
   "metadata": {},
   "source": [
    "Para definir vectores (columna) usamos corchetes y separamos los elementos con \",\":"
   ]
  },
  {
   "cell_type": "code",
   "execution_count": null,
   "metadata": {},
   "outputs": [],
   "source": [
    "v = [1, 2, 3]"
   ]
  },
  {
   "cell_type": "code",
   "execution_count": null,
   "metadata": {},
   "outputs": [],
   "source": [
    "typeof(ans)"
   ]
  },
  {
   "cell_type": "markdown",
   "metadata": {},
   "source": [
    "Para accesar las distintas componentes de un vector, usamos nuevamente los corchetes y el índice del elemento, empezando a contar con el `1`:"
   ]
  },
  {
   "cell_type": "code",
   "execution_count": null,
   "metadata": {},
   "outputs": [],
   "source": [
    "v[2]"
   ]
  },
  {
   "cell_type": "code",
   "execution_count": null,
   "metadata": {},
   "outputs": [],
   "source": [
    "v[0]  # error, ya que las componentes inician en 1"
   ]
  },
  {
   "cell_type": "code",
   "execution_count": null,
   "metadata": {},
   "outputs": [],
   "source": [
    "v[end]  # `end` indica el último elemento del vector"
   ]
  },
  {
   "cell_type": "markdown",
   "metadata": {},
   "source": [
    "Para crear un vector renglón usamos espacios \" \" para separar los elementos:"
   ]
  },
  {
   "cell_type": "code",
   "execution_count": null,
   "metadata": {},
   "outputs": [],
   "source": [
    "[1 2 3]"
   ]
  },
  {
   "cell_type": "code",
   "execution_count": null,
   "metadata": {},
   "outputs": [],
   "source": [
    "typeof(ans)"
   ]
  },
  {
   "cell_type": "markdown",
   "metadata": {},
   "source": [
    "Vale la pena notar que un vector renglón es, de hecho, una matriz de dimensión 1xN, en este caso N=3.\n"
   ]
  },
  {
   "cell_type": "markdown",
   "metadata": {},
   "source": [
    "Uno también puede generar un vector renglón como el traspuesto de un vector columna:"
   ]
  },
  {
   "cell_type": "code",
   "execution_count": null,
   "metadata": {},
   "outputs": [],
   "source": [
    "transpose(v)"
   ]
  },
  {
   "cell_type": "markdown",
   "metadata": {},
   "source": [
    "Las matrices se pueden contruir como \"vectores de vectores\". Así, por ejemplo, tenemos:"
   ]
  },
  {
   "cell_type": "code",
   "execution_count": null,
   "metadata": {},
   "outputs": [],
   "source": [
    "A = [[1,2,3] [4,5,6]]"
   ]
  },
  {
   "cell_type": "markdown",
   "metadata": {},
   "source": [
    "Vale la pena notar que la construcción anterior se hace usando vectores columna.\n",
    "\n",
    "Otra alternativa para la matriz `A`, que es más sencilla de teclear, es:"
   ]
  },
  {
   "cell_type": "code",
   "execution_count": null,
   "metadata": {},
   "outputs": [],
   "source": [
    "[1 4; 2 5; 3 6]"
   ]
  },
  {
   "cell_type": "code",
   "execution_count": null,
   "metadata": {},
   "outputs": [],
   "source": [
    "ans == A"
   ]
  },
  {
   "cell_type": "code",
   "execution_count": null,
   "metadata": {},
   "outputs": [],
   "source": [
    "A[:,2] # Esto muestra la columna 2"
   ]
  },
  {
   "cell_type": "markdown",
   "metadata": {},
   "source": [
    "Es *importante* mencionar que los vectores y matrices se ordenan en memoria a lo largo de las columnas. Uno puede explotar esto para generar código más rápido, o usar distintas formas en los índices, para accesar a los elementos de matrices."
   ]
  },
  {
   "cell_type": "code",
   "execution_count": null,
   "metadata": {},
   "outputs": [],
   "source": [
    "A[3] == A[3,1]"
   ]
  },
  {
   "cell_type": "code",
   "execution_count": null,
   "metadata": {},
   "outputs": [],
   "source": [
    "A[4] == A[1,2]"
   ]
  },
  {
   "cell_type": "markdown",
   "metadata": {},
   "source": [
    "Para añadir un elemento al final de un vector, se puede utilizar `push!``:"
   ]
  },
  {
   "cell_type": "code",
   "execution_count": null,
   "metadata": {},
   "outputs": [],
   "source": [
    "push!(v, 4)"
   ]
  },
  {
   "cell_type": "markdown",
   "metadata": {},
   "source": [
    "`append!` permite agregar una lista de objetos a un vector, como lo indica la siguiente instrucción, que de hecho muestra la ayuda relacionada con `append!`:"
   ]
  },
  {
   "cell_type": "code",
   "execution_count": null,
   "metadata": {},
   "outputs": [],
   "source": [
    "?append!"
   ]
  },
  {
   "cell_type": "markdown",
   "metadata": {},
   "source": [
    "Para borrar elementos de un vector se utilizan las funciones `pop!`, que borra el último elemento, o `deleteat!` que borra un elemento a través del índice:"
   ]
  },
  {
   "cell_type": "code",
   "execution_count": null,
   "metadata": {},
   "outputs": [],
   "source": [
    "pop!(v)"
   ]
  },
  {
   "cell_type": "code",
   "execution_count": null,
   "metadata": {},
   "outputs": [],
   "source": [
    "v"
   ]
  },
  {
   "cell_type": "code",
   "execution_count": null,
   "metadata": {},
   "outputs": [],
   "source": [
    "deleteat!(v, 1)"
   ]
  },
  {
   "cell_type": "code",
   "execution_count": null,
   "metadata": {},
   "outputs": [],
   "source": [
    "v[1]"
   ]
  },
  {
   "cell_type": "markdown",
   "metadata": {},
   "source": [
    "Algunas funciones útiles que permiten saber cosas sobre los vectores y matrices son: `size`, `length`, y `eltype`."
   ]
  },
  {
   "cell_type": "code",
   "execution_count": null,
   "metadata": {},
   "outputs": [],
   "source": [
    "size(A)"
   ]
  },
  {
   "cell_type": "code",
   "execution_count": null,
   "metadata": {},
   "outputs": [],
   "source": [
    "length(v)"
   ]
  },
  {
   "cell_type": "code",
   "execution_count": null,
   "metadata": {},
   "outputs": [],
   "source": [
    "eltype(v)"
   ]
  },
  {
   "cell_type": "markdown",
   "metadata": {},
   "source": [
    "Una convención en Julia es que cuando uno utiliza `!` al final del nombre de una función, esto indica que uno (típicamente el primer elemento) o varios de los parámetros cambian después de usar la función. Esto está relacionado con los conceptos de *mutabilidad* e *inmutabilidad*."
   ]
  },
  {
   "cell_type": "markdown",
   "metadata": {},
   "source": [
    "El concepto de inmutabilidad es importante, ya que los objetos que son inmutables tienen un mapa en la memoria adecuada, lo que se traduce en rapidez. Los objetos mutables se guardan por referencia en memoria, lo que hace que no sean los más óptimos.\n",
    "\n",
    "Ejemplos de objetos mutables son los vectores o matrices; ejemplos de objetos inmutables son las *tuplas*."
   ]
  },
  {
   "cell_type": "code",
   "execution_count": null,
   "metadata": {},
   "outputs": [],
   "source": [
    "isimmutable(v)"
   ]
  },
  {
   "cell_type": "code",
   "execution_count": null,
   "metadata": {},
   "outputs": [],
   "source": [
    "tupl = (1,2,3)"
   ]
  },
  {
   "cell_type": "code",
   "execution_count": null,
   "metadata": {},
   "outputs": [],
   "source": [
    "isimmutable(tupl)"
   ]
  },
  {
   "cell_type": "code",
   "execution_count": null,
   "metadata": {},
   "outputs": [],
   "source": [
    "tupl[2]"
   ]
  },
  {
   "cell_type": "code",
   "execution_count": null,
   "metadata": {},
   "outputs": [],
   "source": [
    "tupl[2] = 4"
   ]
  },
  {
   "cell_type": "markdown",
   "metadata": {},
   "source": [
    "Se pueden definir vectores con elementos no necesariamente del mismo tipo. Esto *puede* tener penalizaciones a nivel manejo de memoria. Si los distintos tipos pueden ser *promocionados* a algo que tenga sentido, entonces se hace la promoción; esto da un vector con uso eficiente de memoria. "
   ]
  },
  {
   "cell_type": "code",
   "execution_count": null,
   "metadata": {},
   "outputs": [],
   "source": [
    "[\"vector\", 1, :sin, sin]"
   ]
  },
  {
   "cell_type": "code",
   "execution_count": null,
   "metadata": {},
   "outputs": [],
   "source": [
    "eltype(ans)"
   ]
  },
  {
   "cell_type": "code",
   "execution_count": null,
   "metadata": {},
   "outputs": [],
   "source": [
    "[1, 3//2, 5/3]"
   ]
  },
  {
   "cell_type": "code",
   "execution_count": null,
   "metadata": {},
   "outputs": [],
   "source": [
    "eltype(ans)"
   ]
  },
  {
   "cell_type": "markdown",
   "metadata": {},
   "source": [
    "## Ciclos"
   ]
  },
  {
   "cell_type": "markdown",
   "metadata": {},
   "source": [
    "Uno puede definir un ciclo usando `for` o `while`. Todo ciclo `for` o `while` debe acabar con un `end`. La estructura básica es:\n",
    "\n",
    "```julia\n",
    "for *variable* in *objeto_iterable*\n",
    "    # cuerpo del ciclo\n",
    "end # obligatorio\n",
    "```"
   ]
  },
  {
   "cell_type": "code",
   "execution_count": null,
   "metadata": {},
   "outputs": [],
   "source": [
    "for i in -1:3\n",
    "    println(i)\n",
    "end  # todo ciclo `for` debe acabar explícitamente"
   ]
  },
  {
   "cell_type": "markdown",
   "metadata": {},
   "source": [
    "Vale la pena mencionar que `-1:3` define un rango (*range*), que en este caso se incrementa con pasos de una unidad."
   ]
  },
  {
   "cell_type": "code",
   "execution_count": null,
   "metadata": {},
   "outputs": [],
   "source": [
    "typeof(-1:3)"
   ]
  },
  {
   "cell_type": "markdown",
   "metadata": {},
   "source": [
    "Se pueden definir rangos que aumenten con otro paso, o que incluso decrecen, como en el siguiente ejemplo:"
   ]
  },
  {
   "cell_type": "code",
   "execution_count": null,
   "metadata": {},
   "outputs": [],
   "source": [
    "for i in 3:-2:-1  # empieza en 3, termina en -1, disminuyendo (-) con pasos de 2\n",
    "    println(i)\n",
    "end"
   ]
  },
  {
   "cell_type": "markdown",
   "metadata": {},
   "source": [
    "Los ciclos (`for` o `while`) definen un entorno (*scope*) y hay reglas precisas sobre la aplicabilidad de las variables definidas en un entorno. \n",
    "\n",
    "Por ejemplo, en el siguiente ciclo `for`, uno esperaría que la variable `x` valga 3:"
   ]
  },
  {
   "cell_type": "code",
   "execution_count": null,
   "metadata": {},
   "outputs": [],
   "source": [
    "for i in -1:3\n",
    "    x = i\n",
    "    println(i)\n",
    "end"
   ]
  },
  {
   "cell_type": "code",
   "execution_count": null,
   "metadata": {},
   "outputs": [],
   "source": [
    "x"
   ]
  },
  {
   "cell_type": "markdown",
   "metadata": {},
   "source": [
    "El error se debe a que la variable `x` no está definida *a fuera* del entorno definido por el ciclo `for` *antes* de que el ciclo sea ejecutado. Para obtener el valor esperado, uno la debe definir antes."
   ]
  },
  {
   "cell_type": "markdown",
   "metadata": {},
   "source": [
    "En cuanto a los rangos, una manera alternativa de definir rangos es usando la instrucción `linspace(x0, x1, n)`,  que empieza en `x0`, termina en `x1`, generando `n` valores intermedios."
   ]
  },
  {
   "cell_type": "code",
   "execution_count": null,
   "metadata": {},
   "outputs": [],
   "source": [
    "linspace(.3, 2, 3)"
   ]
  },
  {
   "cell_type": "code",
   "execution_count": null,
   "metadata": {},
   "outputs": [],
   "source": [
    "collect(ans) # esto crea un vector de los valores generados"
   ]
  },
  {
   "cell_type": "markdown",
   "metadata": {},
   "source": [
    "Para saber los *métodos* que existen para generar variables espaciadas linealmente uno puede usar la instrucción `methods`."
   ]
  },
  {
   "cell_type": "code",
   "execution_count": null,
   "metadata": {},
   "outputs": [],
   "source": [
    "methods(linspace)"
   ]
  },
  {
   "cell_type": "markdown",
   "metadata": {},
   "source": [
    "Se pueden generar vectores usando ciclos `for`, en lo que se conoce como \"entendimientos\" (*comprehensions*)."
   ]
  },
  {
   "cell_type": "code",
   "execution_count": null,
   "metadata": {},
   "outputs": [],
   "source": [
    "[i^2 for i=0:5]"
   ]
  },
  {
   "cell_type": "markdown",
   "metadata": {},
   "source": [
    "## Variables booleanas y condicionales"
   ]
  },
  {
   "cell_type": "markdown",
   "metadata": {},
   "source": [
    "Existen las variables booleanas, que entre otras cosas son muy útiles para definir condicionales. Dichas variables son `false` y `true`. Obviamente, dichas variables están muy ligadas a los dígitos binarios,"
   ]
  },
  {
   "cell_type": "code",
   "execution_count": null,
   "metadata": {},
   "outputs": [],
   "source": [
    "typeof(true)"
   ]
  },
  {
   "cell_type": "code",
   "execution_count": null,
   "metadata": {},
   "outputs": [],
   "source": [
    "Bool(1), Bool(0)"
   ]
  },
  {
   "cell_type": "code",
   "execution_count": null,
   "metadata": {},
   "outputs": [],
   "source": [
    "typeof(ans)"
   ]
  },
  {
   "cell_type": "code",
   "execution_count": null,
   "metadata": {},
   "outputs": [],
   "source": [
    "Int(true), Int(false)"
   ]
  },
  {
   "cell_type": "markdown",
   "metadata": {},
   "source": [
    "Ya hemos visto algunos tipos de comparaciones, por ejemplo, `1.0 == 1`, o `1//10 < 0.1`. El resultado de hacer una comparación es una variable booleana. Usando los operadores `&` y `|` uno encadenar comparaciones en el sentido lógico, que corresponden al Y (`and`) o el O (`or`), respectivamente."
   ]
  },
  {
   "cell_type": "code",
   "execution_count": null,
   "metadata": {},
   "outputs": [],
   "source": [
    "(1 == 3//3) & (0.0 == -0.0)"
   ]
  },
  {
   "cell_type": "code",
   "execution_count": null,
   "metadata": {},
   "outputs": [],
   "source": [
    "(1//10 == 0.1) & (0.0 == -0.0)"
   ]
  },
  {
   "cell_type": "markdown",
   "metadata": {},
   "source": [
    "Estas operaciones siguen la tabla de verdad usual, como lo muestra el siguiente código:"
   ]
  },
  {
   "cell_type": "code",
   "execution_count": null,
   "metadata": {},
   "outputs": [],
   "source": [
    "for ib = (true, false)\n",
    "    for jb = (true,false)\n",
    "        println( \"$ib & $jb = \", ib & jb)\n",
    "        println( \"$ib | $jb = \", ib | jb)\n",
    "    end\n",
    "end"
   ]
  },
  {
   "cell_type": "markdown",
   "metadata": {},
   "source": [
    "En ciertos casos, cuando uno hace dos o más evaluaciones, es posible definir las relaciones lógicas \"de corto circuito\" Éstas permiten hacer la comparación y, si la respuesta se puede conocer después de la primer operación, la segunda no se ejecuta.\n",
    "\n",
    "Para ilustrar esto, usaré el macro `@show` que permite visualizar las cosas. Lo que quiero resaltar es que en algunos casos, sólo hay una evaluación en lugar de dos."
   ]
  },
  {
   "cell_type": "code",
   "execution_count": null,
   "metadata": {},
   "outputs": [],
   "source": [
    "for ib = (true, false)\n",
    "    for jb = (true,false)\n",
    "        println( \"OPERACION: $ib & $jb = $(ib & jb)\"), @show(ib) & @show(jb)\n",
    "        println( \"OPERACION: $ib | $jb = $(ib | jb)\"), @show(ib) | @show(jb)\n",
    "        println( \"OPERACION: $ib && $jb = $(ib && jb)\"), @show(ib) && @show(jb)\n",
    "        println( \"OPERACION: $ib || $jb = $(ib || jb)\"), @show(ib) || @show(jb)\n",
    "        println()\n",
    "    end\n",
    "\n",
    "end"
   ]
  },
  {
   "cell_type": "markdown",
   "metadata": {},
   "source": [
    "Estas operaciones permiten llevar a cabo ciertos trucos."
   ]
  },
  {
   "cell_type": "code",
   "execution_count": null,
   "metadata": {},
   "outputs": [],
   "source": [
    "for i in 1:6\n",
    "    (i % 3) == 0 && println(i)  # Sólo si i mod 3 es cero se imprime el valor de i\n",
    "end"
   ]
  },
  {
   "cell_type": "code",
   "execution_count": null,
   "metadata": {},
   "outputs": [],
   "source": [
    "for i in 1:6\n",
    "    (i % 3) == 0 || println(i)  # Si i mod 3 es cero, NO se imprime el valor de i\n",
    "end"
   ]
  },
  {
   "cell_type": "markdown",
   "metadata": {},
   "source": [
    "Condicionales más complejos se pueden hacer. La estructura genérica es:\n",
    "\n",
    "```julia\n",
    "if *condición*\n",
    "    # haz algo si la condición es cierta\n",
    "elseif *otra_condición*\n",
    "    # haz otra cosa si la segunda condición se satisface\n",
    "    ...\n",
    "else\n",
    "    # haz algo si ninguna de las anteriores se satisface\n",
    "end\n",
    "```"
   ]
  },
  {
   "cell_type": "markdown",
   "metadata": {},
   "source": [
    "En ciertos casos, uno puede escribir un condicional en una sóla línea, en lo que se llama un operador ternario:\n",
    "\n",
    "```julia\n",
    "*condición* ? a : b\n",
    "```\n",
    "\n",
    "lo que equivale a:\n",
    "\n",
    "```julia\n",
    "if *condición*\n",
    "    a\n",
    "else\n",
    "    b\n",
    "end\n",
    "```\n"
   ]
  },
  {
   "cell_type": "markdown",
   "metadata": {},
   "source": [
    "En particular, los operadores ternarios son útiles para asignar cosas según una condición."
   ]
  },
  {
   "cell_type": "code",
   "execution_count": null,
   "metadata": {},
   "outputs": [],
   "source": [
    "for i in 1:5\n",
    "    x = i==3 ? 1 : 0\n",
    "    @show(i, x)\n",
    "end"
   ]
  },
  {
   "cell_type": "markdown",
   "metadata": {},
   "source": [
    "## Funciones"
   ]
  },
  {
   "cell_type": "markdown",
   "metadata": {},
   "source": [
    "Las funciones son importantísimas en Julia, en el sentido de que son de primera clase. De hecho, las funciones definen un tipo propio."
   ]
  },
  {
   "cell_type": "code",
   "execution_count": null,
   "metadata": {},
   "outputs": [],
   "source": [
    "typeof(sin)"
   ]
  },
  {
   "cell_type": "code",
   "execution_count": null,
   "metadata": {},
   "outputs": [],
   "source": [
    "typeof(^)"
   ]
  },
  {
   "cell_type": "markdown",
   "metadata": {},
   "source": [
    "Hay tres maneras de definir una función."
   ]
  },
  {
   "cell_type": "code",
   "execution_count": null,
   "metadata": {},
   "outputs": [],
   "source": [
    "function f(x)\n",
    "    x^2\n",
    "end # obligatorio"
   ]
  },
  {
   "cell_type": "markdown",
   "metadata": {},
   "source": [
    "En el ejemplo anterior definimos la función `f`, que dependen de un argumento (`x`), cuyo tipo no se ha especificado. La última línea de la función, por convención, es el resultado de la función. Otra manera de especificar el valor a regresar es usando `return`. En el ejemplo anterior entonces escribiríamos `return x^2`."
   ]
  },
  {
   "cell_type": "markdown",
   "metadata": {},
   "source": [
    "Otra cosa importante a resaltar es que **no** hemos restringido el valor de `x` de ninguna manera. Por lo tanto, podemos usar la función `f` en objetos en los que tenga sentido \"elevar al cuadrado\". Esto es lo que se llama \"teclear como pato\" (*duck typing*)."
   ]
  },
  {
   "cell_type": "code",
   "execution_count": null,
   "metadata": {},
   "outputs": [],
   "source": [
    "f(2)"
   ]
  },
  {
   "cell_type": "code",
   "execution_count": null,
   "metadata": {},
   "outputs": [],
   "source": [
    "f(pi+2im)"
   ]
  },
  {
   "cell_type": "code",
   "execution_count": null,
   "metadata": {},
   "outputs": [],
   "source": [
    "f(\"Qué es éso? Éso es Queso. \")"
   ]
  },
  {
   "cell_type": "markdown",
   "metadata": {},
   "source": [
    "La segunda manera de definir una función es en una línea, como es común ver cosas escritas en matemáticas. El caso anterior podría haber sido definido de la siguiente manera:"
   ]
  },
  {
   "cell_type": "code",
   "execution_count": null,
   "metadata": {},
   "outputs": [],
   "source": [
    "f(x) = x^2"
   ]
  },
  {
   "cell_type": "markdown",
   "metadata": {},
   "source": [
    "Vale la pena notar el mensaje que arroja Julia al ejecutar la celda anterior:\n",
    "\n",
    "```\n",
    "f (generic function with 1 method)\n",
    "```\n",
    "\n",
    "Eso significa que sólo existe un método de la función `f`."
   ]
  },
  {
   "cell_type": "markdown",
   "metadata": {},
   "source": [
    "Un tercer método para definir funciones es lo que se llama funciones anónimas. Nuevamente, su construcción es usual en las matemáticas, excepto por que no tienen nombre."
   ]
  },
  {
   "cell_type": "code",
   "execution_count": null,
   "metadata": {},
   "outputs": [],
   "source": [
    "x -> x^2  # función anónima"
   ]
  },
  {
   "cell_type": "code",
   "execution_count": null,
   "metadata": {},
   "outputs": [],
   "source": [
    "g = x -> x^2  # `g` es el nombre de la función anónima"
   ]
  },
  {
   "cell_type": "code",
   "execution_count": null,
   "metadata": {},
   "outputs": [],
   "source": [
    "g(2)"
   ]
  },
  {
   "cell_type": "code",
   "execution_count": null,
   "metadata": {},
   "outputs": [],
   "source": [
    "g(\"Amo a mi mamá. \")"
   ]
  },
  {
   "cell_type": "markdown",
   "metadata": {},
   "source": [
    "Ahora definiremos un *segundo método* de la función `f`. Por ejemplo, queremos que si `f` se aplica a una cadena, el resultado sea un mensaje específico. Para esto, especificaremos que `x` es una cadena cualquiera usando `x::AbstractString`, lo que permitirá que usemos este método exclusivamente para cadenas.\n"
   ]
  },
  {
   "cell_type": "code",
   "execution_count": null,
   "metadata": {},
   "outputs": [],
   "source": [
    "f(x::AbstractString) = \"No se leer\""
   ]
  },
  {
   "cell_type": "markdown",
   "metadata": {},
   "source": [
    "Vale la pena notar que el mensaje que arroja Julia al definir `f(x)` en este caso indica\n",
    "que hay 2 métodos de esa función."
   ]
  },
  {
   "cell_type": "code",
   "execution_count": null,
   "metadata": {},
   "outputs": [],
   "source": [
    "f(\"Hola\")"
   ]
  },
  {
   "cell_type": "markdown",
   "metadata": {},
   "source": [
    "Vale la pena notar que `f` aplicado a un vector o matriz, arroja un error. Sin embargo, podemos aplicar `f` al vector usando puntos (*dots*). Esto es lo que se llama transimisión (*broadcasting*). Esta es una notación conveniente, aunque no siempre es la más rápida. El punto es que la definición genérica de `f(x)` la podemos generalizar en vectores o matrices."
   ]
  },
  {
   "cell_type": "code",
   "execution_count": null,
   "metadata": {},
   "outputs": [],
   "source": [
    "f(v) # Arroja un error"
   ]
  },
  {
   "cell_type": "code",
   "execution_count": null,
   "metadata": {},
   "outputs": [],
   "source": [
    "f.(v)"
   ]
  },
  {
   "cell_type": "code",
   "execution_count": null,
   "metadata": {},
   "outputs": [],
   "source": [
    "f.(A)"
   ]
  },
  {
   "cell_type": "markdown",
   "metadata": {},
   "source": [
    "El hecho de que podamos definir funciones, ya sea especificando el tipo de parámetros, o incluyendo más parámetros hace que sea cómodo trabajar en Julia. Por ejemplo, `sqrt` lo puedo usar con números (de punto flotante) reales o complejos. Julia busca el método más específico que se aplica al tipo de parámetros que hemos dado, y si no va a uno más genérico. Esto es parte de lo que se conoce como \"despachamiento múltimple\" (*multiple dispatch*)."
   ]
  },
  {
   "cell_type": "markdown",
   "metadata": {},
   "source": [
    "Como mencionamos antes, es convención que si la función cambia alguno de los argumentos (típicamente el primero), entonces se incluye un `!` al final de la función. Un ejemplo de una función que cambia a un argumento es el siguiente:"
   ]
  },
  {
   "cell_type": "code",
   "execution_count": null,
   "metadata": {},
   "outputs": [],
   "source": [
    "function h!(v::Vector)\n",
    "    v[1] = zero(v[1])  # usamos la función `zero` para conservar el tipo del vector\n",
    "end"
   ]
  },
  {
   "cell_type": "code",
   "execution_count": null,
   "metadata": {},
   "outputs": [],
   "source": [
    "v"
   ]
  },
  {
   "cell_type": "code",
   "execution_count": null,
   "metadata": {},
   "outputs": [],
   "source": [
    "h!(v)"
   ]
  },
  {
   "cell_type": "code",
   "execution_count": null,
   "metadata": {},
   "outputs": [],
   "source": [
    "v"
   ]
  },
  {
   "cell_type": "markdown",
   "metadata": {},
   "source": [
    "Otro ejemplo es la función `sort!`. Primero generaremos un vector con 5 entradas al azar, de números entre el 1 y el 10."
   ]
  },
  {
   "cell_type": "code",
   "execution_count": null,
   "metadata": {},
   "outputs": [],
   "source": [
    "w = rand(1:10, 5)"
   ]
  },
  {
   "cell_type": "code",
   "execution_count": null,
   "metadata": {},
   "outputs": [],
   "source": [
    "sort!(w); "
   ]
  },
  {
   "cell_type": "code",
   "execution_count": null,
   "metadata": {},
   "outputs": [],
   "source": [
    "w"
   ]
  },
  {
   "cell_type": "markdown",
   "metadata": {},
   "source": [
    "## Estabilidad de tipo"
   ]
  },
  {
   "cell_type": "markdown",
   "metadata": {},
   "source": [
    "Para que quede claro la importancia de la *estabilidad de tipo*, hagamos un ejemplo de una función que **no** es estable según el tipo, y comparemos su rendimiento con una que sí lo es. El ejemplo es muy malo, pero ilustrativo."
   ]
  },
  {
   "cell_type": "code",
   "execution_count": null,
   "metadata": {},
   "outputs": [],
   "source": [
    "function inestable(n::Int)\n",
    "    x = rem(n,2) == 0 ? n/2 : n//3 # x puede ser un Float64 o un racional\n",
    "    return x^2\n",
    "end\n",
    "\n",
    "# Aquí, x sólo puede ser un Float64\n",
    "function estable(n::Int)\n",
    "    x = rem(n,2) == 0 ? n/2 : n/3\n",
    "    return x^2\n",
    "end"
   ]
  },
  {
   "cell_type": "markdown",
   "metadata": {},
   "source": [
    "Corremos una vez cada función, para compilar."
   ]
  },
  {
   "cell_type": "code",
   "execution_count": null,
   "metadata": {},
   "outputs": [],
   "source": [
    "inestable(1), inestable(2)"
   ]
  },
  {
   "cell_type": "code",
   "execution_count": null,
   "metadata": {},
   "outputs": [],
   "source": [
    "estable(1), estable(2)"
   ]
  },
  {
   "cell_type": "markdown",
   "metadata": {},
   "source": [
    "Para compararlas, corremos muchas veces la funciones"
   ]
  },
  {
   "cell_type": "code",
   "execution_count": null,
   "metadata": {},
   "outputs": [],
   "source": [
    "@time begin\n",
    "    x = inestable(1)\n",
    "    for i = 1:10000000\n",
    "        x = inestable(i)\n",
    "    end\n",
    "    x\n",
    "end"
   ]
  },
  {
   "cell_type": "code",
   "execution_count": null,
   "metadata": {},
   "outputs": [],
   "source": [
    "@time begin\n",
    "    x = estable(1)\n",
    "    for i = 1:10000000\n",
    "        x = estable(i)\n",
    "    end\n",
    "    x\n",
    "end"
   ]
  },
  {
   "cell_type": "markdown",
   "metadata": {},
   "source": [
    "La función `inestable` es más de 10 veces más lenta que la función estable, justamente porque no preserva el tipo. Esto es, Julia no puede saber si el resultado será un racional o un entero."
   ]
  },
  {
   "cell_type": "markdown",
   "metadata": {},
   "source": [
    "Una herramienta útil para saber si una función es estable según el tipo es `@code_warntype`. En los ejemplo anteriores obtenemos:"
   ]
  },
  {
   "cell_type": "code",
   "execution_count": null,
   "metadata": {},
   "outputs": [],
   "source": [
    "@code_warntype inestable(1)"
   ]
  },
  {
   "cell_type": "code",
   "execution_count": null,
   "metadata": {},
   "outputs": [],
   "source": [
    "@code_warntype estable(1)"
   ]
  },
  {
   "cell_type": "markdown",
   "metadata": {},
   "source": [
    "Los problemas se indican con claridad."
   ]
  },
  {
   "cell_type": "markdown",
   "metadata": {},
   "source": [
    "## Paquetes"
   ]
  },
  {
   "cell_type": "markdown",
   "metadata": {},
   "source": [
    "Julia cuenta con **muchos** paquetes que hacen una gran diversidad de cosas. Una lista de los paquetes \"registrados\" se encuentra [aquí](https://pkg.julialang.org/)."
   ]
  },
  {
   "cell_type": "markdown",
   "metadata": {},
   "source": [
    "Para agregar un paquete en Julia 0.6.x hacemos:\n",
    "\n",
    "```julia\n",
    "Pkg.add(\"Primes\")\n",
    "```\n",
    "\n",
    "Por completez menciono que en Julia 0.7.0 haremos:\n",
    "\n",
    "```julia\n",
    "using Pkg\n",
    "Pkg.add(\"Primes\")\n",
    "```"
   ]
  },
  {
   "cell_type": "markdown",
   "metadata": {},
   "source": [
    "Como ejemplo, agregaré el paquete `Primes`, que incluye la función `primes` que permite enumerar los números primos menores que cierto valor. Empecemos por mostrar que dicha función no existe."
   ]
  },
  {
   "cell_type": "code",
   "execution_count": null,
   "metadata": {},
   "outputs": [],
   "source": [
    "primes(1000000) # debe dar un error"
   ]
  },
  {
   "cell_type": "code",
   "execution_count": null,
   "metadata": {
    "scrolled": false
   },
   "outputs": [],
   "source": [
    "Pkg.add(\"Primes\")"
   ]
  },
  {
   "cell_type": "markdown",
   "metadata": {},
   "source": [
    "Para usar un paquete (ya instalado) usamos `using`:"
   ]
  },
  {
   "cell_type": "code",
   "execution_count": null,
   "metadata": {},
   "outputs": [],
   "source": [
    "using Primes"
   ]
  },
  {
   "cell_type": "code",
   "execution_count": null,
   "metadata": {},
   "outputs": [],
   "source": [
    "nprm = primes(1000000)"
   ]
  },
  {
   "cell_type": "markdown",
   "metadata": {},
   "source": [
    "## Graficando"
   ]
  },
  {
   "cell_type": "markdown",
   "metadata": {},
   "source": [
    "Primero instalamos el paquete `Plots`, y luego lo cargamos. Esto suele ser tardado la primera vez..."
   ]
  },
  {
   "cell_type": "code",
   "execution_count": null,
   "metadata": {},
   "outputs": [],
   "source": [
    "#Pkg.add(\"Plots\")  # Esto puede ser tardado\n",
    "using Plots        # .... y esto también"
   ]
  },
  {
   "cell_type": "markdown",
   "metadata": {},
   "source": [
    "Graficaremos la función $ f(x) = x^2 $, en el intervalo de x de -3 a 5."
   ]
  },
  {
   "cell_type": "code",
   "execution_count": null,
   "metadata": {},
   "outputs": [],
   "source": [
    "plot(-3:0.25:5, x->x^2)  # ejemplo del uso de una función anónima\n",
    "scatter!(-3:0.25:5, x->x^2)"
   ]
  },
  {
   "cell_type": "markdown",
   "metadata": {},
   "source": [
    "La primer instrucción hace la gráfica con la línea; el segundo con los puntos. Vale la pena notar el `!` en `scatter!`; se debe a que modificamos la gráfica anterior, agregando algo."
   ]
  },
  {
   "cell_type": "markdown",
   "metadata": {},
   "source": [
    "Algo particular de `Plots.jl` es que permite cambiar el graficador que se usa, sin cambiar los comandos."
   ]
  },
  {
   "cell_type": "code",
   "execution_count": null,
   "metadata": {},
   "outputs": [],
   "source": [
    "# Pkg.add(\"Plotly\")\n",
    "plotly()"
   ]
  },
  {
   "cell_type": "code",
   "execution_count": null,
   "metadata": {},
   "outputs": [],
   "source": [
    "plot(-3:0.25:5, x->x^2)  # ejemplo del uso de una función anónima\n",
    "scatter!(-3:0.25:5, x->x^2)"
   ]
  },
  {
   "cell_type": "markdown",
   "metadata": {},
   "source": [
    "`Plots.jl` permite hacer gráficas más o menos elaboradas, sin mucho esfuerzo."
   ]
  },
  {
   "cell_type": "code",
   "execution_count": null,
   "metadata": {},
   "outputs": [],
   "source": [
    "xx = -10:10\n",
    "p1 = plot(xx, xx)\n",
    "p2 = plot(xx, xx.^2)\n",
    "p3 = plot(xx, xx.^3)\n",
    "p4 = plot(xx, xx.^4)\n",
    "plot(p1, p2, p3, p4, layout = (2, 2), legend = false)"
   ]
  },
  {
   "cell_type": "markdown",
   "metadata": {},
   "source": [
    "Más información, en la [documentación](http://docs.juliaplots.org/latest/) de `Plots.jl`."
   ]
  }
 ],
 "metadata": {
  "kernelspec": {
   "display_name": "Julia 0.6.5-pre",
   "language": "julia",
   "name": "julia-0.6"
  },
  "language_info": {
   "file_extension": ".jl",
   "mimetype": "application/julia",
   "name": "julia",
   "version": "0.6.5"
  }
 },
 "nbformat": 4,
 "nbformat_minor": 2
}
