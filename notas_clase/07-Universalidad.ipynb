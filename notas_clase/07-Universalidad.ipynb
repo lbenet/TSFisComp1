{
 "cells": [
  {
   "cell_type": "markdown",
   "metadata": {},
   "source": [
    "**NOTA**\n",
    "\n",
    "Los ejercicios de este notebook corresponden a la Tarea6, que debe ser entregada en equipo. \n",
    "\n",
    "Las fechas relevantes son:\n",
    "\n",
    "**Envío del PR inicial:** 3 de noviembre\n",
    "\n",
    "**Aceptación del PR:** 9 de noviembre\n"
   ]
  },
  {
   "cell_type": "markdown",
   "metadata": {},
   "source": [
    "# Exponente(s) de Lyapunov y Universalidad"
   ]
  },
  {
   "cell_type": "markdown",
   "metadata": {},
   "source": [
    "Una manera de caracterizar el caos en el sentido de *sensibilidad a condiciones iniciales* es a través de los **exponentes de Liapunov**. La idea es sencilla: si hay una dependencia *exponencial* en el tiempo a la separación de condiciones iniciales infinitesimalmente cercanas, entonces diremos que hay caos."
   ]
  },
  {
   "cell_type": "markdown",
   "metadata": {},
   "source": [
    "Por esto, simplemente monitoreamos la evolución de dos condiciones iniciales cercanas, $x_0$ y $x_0+\\epsilon$, donde $\\epsilon>0$ y pequeño.\n",
    "\n",
    "Considerando mapeos en una dimensión, la distancia entre los iterados $n$ es\n",
    "\n",
    "\\begin{equation}\n",
    "D_n = \\big|\\, f^{n}(x_0+\\epsilon)-f^{n}(x_0) \\big|\\,.\n",
    "\\end{equation}"
   ]
  },
  {
   "cell_type": "markdown",
   "metadata": {},
   "source": [
    "Entonces, suponiendo que $d_n$ tiene una dependencia exponencial de $n$, para $n\\to\\infty$ y $\\epsilon\\to 0$, escribimos $d_n= \\epsilon \\exp(\\lambda n)$, de donde obtenemos\n",
    "\n",
    "\\begin{equation}\n",
    "\\lambda(x_0) \\equiv \\lim_{n\\to\\infty} \\;\\lim_{\\epsilon\\to 0} \\;\n",
    "\\frac{1}{n}\\log\\Big| \\frac{f^{n}(x_0+\\epsilon)-f^{n}(x_0)}{\\epsilon}\\Big|.\n",
    "\\end{equation}\n",
    "\n",
    "A $\\lambda(x_0)$ se le llama exponente de Lyapunov. Si $\\lambda(x_0)>0$ diremos que hay caos, mientras que si $\\lambda(x_0)<0$ diremos que no lo hay."
   ]
  },
  {
   "cell_type": "markdown",
   "metadata": {},
   "source": [
    "Observaciones:\n",
    "\n",
    "- El exponente de Lyapunov, estrictamente hablando, depende de la condición inicial $x_0$.\n",
    "\n",
    "- En la definición del exponente de Lyapunov se require la evaluación de **dos** límites, uno que involucra al tiempo ($n\\to\\infty$), y otro a la condición inicial ($\\epsilon\\to 0$).\n",
    "\n",
    "- La definición del exponente de Lyapunov es sutil, ya que en muchas ocasiones *sabemos* que el rango de $f(x)$ es acotado cuando $x$ está en cierto dominio, lo que entonces podría llevar erróneamente a concluir que $\\lambda(x_0)=0$. (La sutileza está en que el órden de los límites no conmuta.)"
   ]
  },
  {
   "cell_type": "markdown",
   "metadata": {},
   "source": [
    "Si el mapeo $f(x)$ es suficientemente suave, entonces podemos escribir\n",
    "\n",
    "\\begin{equation}\n",
    "\\lambda(x_0) = \\lim_{n\\to\\infty} \\frac{1}{n}\\log\\Big| \\frac{{\\rm d} f^{n}}{{\\rm d}x}(x_0)\\Big|,\n",
    "\\end{equation}\n",
    "\n",
    "Usando que\n",
    "\n",
    "\\begin{equation}\n",
    "\\frac{{\\rm d}f^n}{{\\rm d}x}(x_0) = f'(x_0) f'(x_1)\\dots f'(x_{n-1}) \n",
    "= \\prod_{i=1}^{n} f'(x_i), \n",
    "\\end{equation}\n",
    "\n",
    "donde $x_i=f^i(x_0)$\n",
    "obtenemos\n",
    "\n",
    "\\begin{equation}\n",
    "\\lambda(x_0) = \\lim_{n\\to\\infty} \\frac{1}{n} \\sum_{i=1}^n \\log\n",
    "\\Big| \\, f'(x_i)\\, \\Big|.\n",
    "\\end{equation}\n"
   ]
  },
  {
   "cell_type": "markdown",
   "metadata": {},
   "source": [
    "**Ejercicio 1:**\n",
    "\n",
    "- ¿Cómo se generaliza la expresión anterior para el exponente de Lyapunov en mapeos de 1 variable, a mapeos de 2 variables?\n",
    "\n",
    "\n",
    "- ¿Cómo se compara el exponente de Lyapunov $\\lambda(x_0)$ con $\\lambda( f(x_0) )$, para el mapeo $x\\mapsto f(x)$?"
   ]
  },
  {
   "cell_type": "markdown",
   "metadata": {},
   "source": [
    "**Ejercicio 2:**\n",
    "\n",
    "Obtengan, para la familia de mapeos cuadrática $Q_c(x)$, el diagrama que muestra el exponente de Lyapunov en términos de $c$, para $c\\in[-2,2]$.\n",
    "\n",
    "- ¿Qué particularidad ocurre (en términos del exponente de Lyapunov) para los valores de $c$ donde hay bifurcaciones?\n",
    "\n",
    "- ¿Qué particularidad ocurre (en términos del exponente de Lyapunov) cuando tenemos *ciclos superestables*, es decir, cuando $x=0$ es parte de un ciclo periódico?"
   ]
  },
  {
   "cell_type": "code",
   "execution_count": null,
   "metadata": {},
   "outputs": [],
   "source": []
  },
  {
   "cell_type": "markdown",
   "metadata": {},
   "source": [
    "# Universalidad"
   ]
  },
  {
   "cell_type": "markdown",
   "metadata": {},
   "source": [
    "Anteriormente, obtuvimos el siguiente diagrama de bifurcaciones de la familia cuadrática:\n",
    "\n",
    "![](diag_bifurcaciones.png)\n"
   ]
  },
  {
   "cell_type": "markdown",
   "metadata": {},
   "source": [
    "En esta sección, analizaremos por qué ciertos aspectos de la dinámica son universales (como por ejemplo los exponentes de Feigenbaum), es decir, para una familia más amplia de mapeos, más allá de la cuadrática. Aún así, analizaremos este aspecto para la familia cuadrática.\n",
    "\n",
    "El argumento que se presenta será más bien cualitativo; sin embargo, las observaciones que aquí se harán se pueden poner en términos rigurosos, que se conocen como la teoría de renormalización."
   ]
  },
  {
   "cell_type": "markdown",
   "metadata": {},
   "source": [
    "## Ciclos superestables"
   ]
  },
  {
   "cell_type": "markdown",
   "metadata": {},
   "source": [
    "Para la familia de mapeos cuadráticos $Q_c(x) = x^2+c$, un punto particular es $x=0$, simplemente porque en $x=0$ se satisface $Q_c'(x=0)=0$ para todo valor de $c$. \n",
    "Por esto es que definiremos un *ciclo superestable* de periodo $n$ como aquél en que el punto $x=0$ forma parte del órbita periódica de periodo $n$."
   ]
  },
  {
   "cell_type": "markdown",
   "metadata": {},
   "source": [
    "Es fácil ver que en $c_0=0$ se tiene un ciclo superestable periódico de periodo 1. En este caso, uno puede sustituir $c=0$ en $Q_c(x)$, y notar que $Q_{c=0}(x)=x$ se cumple para $x=0$."
   ]
  },
  {
   "cell_type": "code",
   "execution_count": null,
   "metadata": {},
   "outputs": [],
   "source": [
    "using Plots\n",
    "\n",
    "using LaTeXStrings\n",
    "\n",
    "pyplot(grid=:false, legend=:false, size=(400,267))"
   ]
  },
  {
   "cell_type": "code",
   "execution_count": null,
   "metadata": {},
   "outputs": [],
   "source": [
    "\"Mapeo cuadrático evaluado en `x`, con parámetro `c`\"\n",
    "Qc(x,c) = x^2 + c\n",
    "Qc(x, args...) = !c(x, args[1])\n",
    "\n",
    "\"Derivada de `Qc(x,c)` respecto a `x` evaluada en `x`, con parámetro `c`\"\n",
    "Qc´(x,c) = 2x"
   ]
  },
  {
   "cell_type": "code",
   "execution_count": null,
   "metadata": {},
   "outputs": [],
   "source": [
    "C0 = 0.0"
   ]
  },
  {
   "cell_type": "code",
   "execution_count": null,
   "metadata": {},
   "outputs": [],
   "source": [
    "Qc(0.0,C0) == 0.0"
   ]
  },
  {
   "cell_type": "code",
   "execution_count": null,
   "metadata": {},
   "outputs": [],
   "source": [
    "doc\"\"\"\n",
    "    Qcⁿ(x, args)\n",
    "\n",
    "Esta función define el n-enésimo iterado de $Qc(x,c)$,\n",
    "donde el valor a iterar es `x` y el valor del parámetro\n",
    "es `c`, donde `c = args[1]` y `n = args[2]`.\n",
    "\"\"\"\n",
    "function Qcⁿ(x, args)\n",
    "    c, n = args[1], args[2]\n",
    "    @assert n >= 0 && isa(n,Int)\n",
    "    n <= 1 && return Qc(x,c)\n",
    "    for it = 1:n\n",
    "        x = Qc(x,c)\n",
    "    end\n",
    "    return x\n",
    "end"
   ]
  },
  {
   "cell_type": "markdown",
   "metadata": {},
   "source": [
    "La siguiente gráfica muestra el mapeo $Q_c(x)$ para $c=C_0$."
   ]
  },
  {
   "cell_type": "code",
   "execution_count": null,
   "metadata": {},
   "outputs": [],
   "source": [
    "xrange = -1:1/64:1\n",
    "plot(xrange, x->Qcⁿ(x, (C0,1)))\n",
    "plot!(xrange, x->x)\n",
    "ylims!(-1,1)\n",
    "xlabel!(L\"x\")\n",
    "ylabel!(L\"Q_c(x)\")\n",
    "title!(L\"c = C_0\")"
   ]
  },
  {
   "cell_type": "markdown",
   "metadata": {},
   "source": [
    "Para obtener el valor $c_1$ del ciclo superestable de periodo 2, debemos encontrar la $c$ tal que \n",
    "\n",
    "\\begin{equation}\n",
    "Q_c^2(0) = c^2+c = c(c+1) = 0,\n",
    "\\end{equation}\n",
    "\n",
    "cuya solución, distinta de $c_0=0$, es $c_1=-1$."
   ]
  },
  {
   "cell_type": "code",
   "execution_count": null,
   "metadata": {},
   "outputs": [],
   "source": [
    "C1 = -1.0"
   ]
  },
  {
   "cell_type": "code",
   "execution_count": null,
   "metadata": {},
   "outputs": [],
   "source": [
    "xrange = -1:1/64:1\n",
    "plot(xrange, x->Qcⁿ(x, (C1,2)))\n",
    "plot!(xrange, x->x)\n",
    "ylims!(-1,1)\n",
    "\n",
    "x₁ = -0.6\n",
    "plot!([x₁, -x₁, -x₁, x₁, x₁], [x₁, x₁, -x₁, -x₁, x₁])\n",
    "xlabel!(L\"x\")\n",
    "ylabel!(L\"Q_c^2(x)\")\n",
    "title!(L\"c = C_1\")"
   ]
  },
  {
   "cell_type": "markdown",
   "metadata": {},
   "source": [
    "El recuadro verde en la gráfica de $C_1$ muestra un detalle de $Q_{C_1}^2(x)$ que, localmente, se *parece* a $Q_{C_0}(x)$; aunque obvio, noten que la comparación requiere de una reflexión."
   ]
  },
  {
   "cell_type": "markdown",
   "metadata": {},
   "source": [
    "A fin de encontrar el valor de $c$ en que $Q_{c}^4(x=0)=0$, usamos el método de Newton. (Usaremos [TaylorSeries.jl](https://github.com/JuliaDiff/TaylorSeries.jl) para calcular la derivada de la función `f` usando diferenciación automática.)"
   ]
  },
  {
   "cell_type": "code",
   "execution_count": null,
   "metadata": {},
   "outputs": [],
   "source": [
    "using TaylorSeries"
   ]
  },
  {
   "cell_type": "code",
   "execution_count": null,
   "metadata": {},
   "outputs": [],
   "source": [
    "function roots_newton(f, x0)\n",
    "    t = Taylor1(eltype(x0), 1)\n",
    "    for ind = 1:30\n",
    "       fT = f(x0+t)\n",
    "       x0 = x0 - fT[0]/fT[1]\n",
    "    end\n",
    "    x0\n",
    "end"
   ]
  },
  {
   "cell_type": "code",
   "execution_count": null,
   "metadata": {},
   "outputs": [],
   "source": [
    "Q4c = c -> Qcⁿ(0.0, (c, 4))\n",
    "C2 = roots_newton(Q4c, -1.4)"
   ]
  },
  {
   "cell_type": "code",
   "execution_count": null,
   "metadata": {},
   "outputs": [],
   "source": [
    "xrange = -1:1/64:1\n",
    "plot(xrange, x->Qcⁿ(x, (C2,4)))\n",
    "plot!(xrange, x->x)\n",
    "ylims!(-1,1)\n",
    "\n",
    "x₁ = -0.25\n",
    "plot!([x₁, -x₁, -x₁, x₁, x₁], [x₁, x₁, -x₁, -x₁, x₁])\n",
    "\n",
    "xlabel!(L\"x\")\n",
    "ylabel!(L\"Q_c^4(x)\")\n",
    "title!(L\"c = C_2\")"
   ]
  },
  {
   "cell_type": "markdown",
   "metadata": {},
   "source": [
    "Nuevamente, el recuadro verde en la gráfica de $C_2$ muestra un detalle de $Q_{C_2}^4(x)$ que, localmente, se *parece* a $Q_{C_0}(x)$. En este caso, la doble reflexión hace que la orientación corresponda."
   ]
  },
  {
   "cell_type": "code",
   "execution_count": null,
   "metadata": {},
   "outputs": [],
   "source": [
    "Q8c = c -> Qcⁿ(0.0, (c, 8))\n",
    "C3 = roots_newton(Q8c, -1.4)"
   ]
  },
  {
   "cell_type": "code",
   "execution_count": null,
   "metadata": {},
   "outputs": [],
   "source": [
    "xrange = -1:1/128:1\n",
    "plot(xrange, x->Qcⁿ(x, (C3,8)))\n",
    "plot!(xrange, x->x)\n",
    "ylims!(-1,1)\n",
    "\n",
    "x₁ = -0.125\n",
    "plot!([x₁, -x₁, -x₁, x₁, x₁], [x₁, x₁, -x₁, -x₁, x₁])\n",
    "\n",
    "xlabel!(L\"x\")\n",
    "ylabel!(L\"Q_c^8(x)\")\n",
    "title!(L\"c = C_3\")"
   ]
  },
  {
   "cell_type": "markdown",
   "metadata": {},
   "source": [
    "**Ejercicio 3:**\n",
    "\n",
    "Rehacer los cálculos de los exponentes de Feigenbaum,\n",
    "\\begin{eqnarray*}\n",
    "f_n &=& \\frac{C_n-C_{n+1}}{C_{n+1}-C_{n+2}},\\\\\n",
    "a_n &=& \\frac{d_n}{d_{n+1}},\n",
    "\\end{eqnarray*}\n",
    "\n",
    "usando los valores $C_n$ donde se tienen ciclos superestables de periodo $2^n$. (Este ejercicio es muy parecido a los ejercicios 1 y 3 de la `Tarea4`.) \n",
    "\n",
    "Nota: Es importante dar un punto suficientemente bien aproximado a $C_n$ para que el método de Newton converja bien."
   ]
  },
  {
   "cell_type": "code",
   "execution_count": null,
   "metadata": {},
   "outputs": [],
   "source": []
  },
  {
   "cell_type": "markdown",
   "metadata": {},
   "source": [
    "**Ejercicio 4:**\n",
    "\n",
    "Comparar gráficamente los mapeos $Q_{c}(x)$ y $Q_{c^\\prime}^2(x)$ para $c=1/4, 0, -3/4, -1, -2, -2.2$ y $c^\\prime=-3/4,-1,-5/4,-1.3, -1.546\\dots, -1.65$. \n"
   ]
  },
  {
   "cell_type": "code",
   "execution_count": null,
   "metadata": {},
   "outputs": [],
   "source": []
  },
  {
   "cell_type": "markdown",
   "metadata": {},
   "source": [
    "**Ejercicio 5:**\n",
    "\n",
    "Estudiar la dinámica para $c=-2.2$\n",
    "\n",
    "- ¿Cómo se caracteriza el valor al que tiende *casi* cualquier condición inicial en el\n",
    "intervalo $I=[-p_+,p_+]$ (donde $p_+$ es el valor positivo tal que $Q_c(p_+)=p_+$), después de muchos iterados? (El intervalo $I$ es donde \"toda la dinámica interesante ocurre\".)\n",
    "\n",
    "- Caractericen los subconjuntos de $I$ tales que, después de $n=1,2,3,\\dots$ iterados de $Q_c(x)$, su intersección con $I$ es vacía.\n",
    "\n",
    "- Caracterizen al complemento del conjunto de los casos anteriores, es decir, cuando los iterados de la condición inicial **no** llegan a donde *casi* cualquier condición inicial termina. ¿Cómo se conoce a este conjunto?"
   ]
  },
  {
   "cell_type": "code",
   "execution_count": null,
   "metadata": {},
   "outputs": [],
   "source": []
  },
  {
   "cell_type": "markdown",
   "metadata": {},
   "source": [
    "**Ejercicio 6:**\n",
    "\n",
    "- Usando el análisis gráfico para un valor de $c$ *ligeramente* anterior al punto donde se observa la ventana de periodo 3 para la familia $Q_c(x)$, y uno en la ventana de periodo 3, concluyan el tipo de bifurcación que se observa.\n",
    "\n",
    "- Comparen la dinámica para ambos valores de $c$ del inciso anterior. ¿Cómo es el exponente de Lyapunov en cada caso?\n",
    "\n",
    "- Encuentren el valor de $c$ donde se da el ciclo superestable de periodo 3. (Nuevamente, usen el método de Newton con una buena semilla inicial para $c$.) Demuestren que para este valor de $c$ el mapeo $Q_c^3(x)$ tiene *ocho* puntos fijos, donde dos de ellos son puntos fijos de $Q_c(x)$, y los otros 6 forman dos secuencias periódicas, de periodo 3 en $Q_c(x)$, una de ellas estable y la otra inestable.\n",
    "\n",
    "(Los siguientes incisos usan el valor de $c$ encontrado en el inciso anterior.)\n",
    "\n",
    "- Denotando al ciclo inestable de periodo 3 como $\\alpha\\mapsto \\beta\\mapsto\\gamma$, con $\\gamma<\\beta<\\alpha$, uno puede asociar a cada uno de estos valores un valor $\\hat\\alpha, \\hat\\beta, \\hat\\gamma$, tales que $Q_c^3(\\hat\\alpha)=\\alpha$, $Q_c^3(\\hat\\beta)=\\beta$, $Q_c^3(\\hat\\gamma)=\\gamma$. ¿Qué podemos concluir de un punto que cae en cualquiera de los intervalos $[\\alpha,\\hat\\alpha]$, $[\\beta,\\hat\\beta]$ y $[\\hat\\gamma,\\gamma]$, en términos de los iterados sucesivos?\n",
    "\n",
    "- Definiendo los intervalos $I_0=[\\hat\\beta, \\alpha]$, $I_1=[\\gamma,\\beta]$, mostrar que bajo la acción de $Q_c(x)$ se cumple: (i) $Q_c(I_0) \\supset I_1$, y (ii) $Q_c(I_1) \\supset I_0\\cup I_1$. ¿Qué propiedad *importante* de $Q_c(x)$ se utiliza aquí?\n",
    "\n",
    "(Los intervalos $I_0$ e $I_1$, y estas propiedades, son básicos en la demostración del teorema \"periodo tres implica caos\".)"
   ]
  },
  {
   "cell_type": "code",
   "execution_count": null,
   "metadata": {},
   "outputs": [],
   "source": []
  },
  {
   "cell_type": "markdown",
   "metadata": {},
   "source": [
    "# Constante $\\alpha$ de Feigenbaum"
   ]
  },
  {
   "cell_type": "markdown",
   "metadata": {},
   "source": [
    "El punto del análisis gráfico anterior es que, *localmente*, los mapeos $Q_{C_0}(x)$ y $Q^{2^n}_{C_n}(x)$ son muy similares, si uno se enfoca en un dominio muy particular para $Q^{2^n}_{C_n}(x)$.\n",
    "\n",
    "Vale la pena notar que, en este caso, la distancia al punto fijo (que cruza la identidad) \n",
    "y que define los recuadros verdes, es $d_n = Q_{C_n}^{2^{n-1}}(0)\\approx -\\alpha d_{n+1}$ (ver ejercicio 3 de la Tarea 5)."
   ]
  },
  {
   "cell_type": "markdown",
   "metadata": {},
   "source": [
    "Esta observación se expresa de manera formal construyendo una función que localmente se comporta como $Q^{2^n}_{C_n}(x)$:\n",
    "\n",
    "\\begin{equation}\n",
    "g_1(x) = \\lim_{n\\to\\infty} (-\\alpha)^n Q_{C_{n+1}}^{2^n}\\;\\Big(\\frac{x}{(-\\alpha)^n}\\Big).\n",
    "\\end{equation}\n",
    "\n",
    "El límite $n\\to\\infty$ hace que todas las particularidades del mapeo $Q_c(x)$ se pierdan y, en este sentido, que sólo las propiedades que son *universales* resten.\n",
    "\n",
    "La ecuación anterior se generaliza a:\n",
    "\n",
    "\\begin{equation}\n",
    "g_i(x) = \\lim_{n\\to\\infty} (-\\alpha)^n Q_{C_{n+i}}^{2^n}\\;\\Big(\\frac{x}{(-\\alpha)^n}\\Big),\n",
    "\\end{equation}\n",
    "\n",
    "\n"
   ]
  },
  {
   "cell_type": "markdown",
   "metadata": {},
   "source": [
    "De la definición de $g_i(x)$, uno puede demostrar las funciones $g_i(x)$ satisfacen la ecuación\n",
    "\n",
    "\\begin{equation}\n",
    "g_{i-1}(x) = -\\alpha g_i\\Big( g_i\\big(-\\,\\frac{x}{\\alpha}\\big)\\Big) ,\n",
    "\\end{equation}\n",
    "\n",
    "que al tomar el límite $i\\to \\infty$ nos lleva a:\n",
    "\n",
    "\\begin{equation}\n",
    "g(x) \\equiv T g(x) = -\\alpha g\\Big( g\\big(-\\,\\frac{x}{\\alpha}\\big)\\Big),\n",
    "\\end{equation}\n",
    "\n",
    "donde $T$ es el *operador de doblamiento de periodo*.\n"
   ]
  },
  {
   "cell_type": "markdown",
   "metadata": {},
   "source": [
    "Si $g(x)$ satisface la ecuación anterior, entonces la función $\\mu g(x/\\mu)$, con $\\mu\\neq 0$, es también solución de la ecuación. Esta es una propiedad de escalamiento. De aquí, imponiendo que $g(0)=1$ se tiene $1=-\\alpha g(1)$.\n",
    "\n",
    "La idea es hacer un desarrollo en serie de Taylor de $g(x)$ cerca de $x=0$ a fin de obtener una aproximación de $\\alpha$. De la ecuación de doblamiento de periodo uno obtiene:\n",
    "\n",
    "\\begin{eqnarray}\n",
    "g'(x) &=& g'\\Big( g\\big(-\\,\\frac{x}{\\alpha}\\big) \\Big) g'\\big(-\\,\\frac{x}{\\alpha}\\big),\\\\\n",
    "g''(x) &=& -g''\\Big( g\\big(-\\,\\frac{x}{\\alpha}\\big) \\Big) \\Big[ g'\\big(-\\,\\frac{x}{\\alpha}\\big)\\Big]^2\n",
    "-\\,\\frac{1}{\\alpha} g'\\Big( g\\big(-\\,\\frac{x}{\\alpha}\\big) \\Big) g''\\big(-\\,\\frac{x}{\\alpha}\\big).\n",
    "\\end{eqnarray}\n"
   ]
  },
  {
   "cell_type": "markdown",
   "metadata": {},
   "source": [
    "De la primer ecuación podemos concluir que $g'(0)=0$. Por esto, a segundo orden tenemos que $g(x)\\simeq 1+b x^2$. Sustituyendo esta aproximación en la ecuación de doblamiento de periodo y desarrollando *hasta* segundo orden, se obtiene:\n",
    "\n",
    "\\begin{equation}\n",
    "1+b x^2 \\simeq -\\alpha\\Big(1+b\\big(1+b(-\\frac{x}{\\alpha})^2\\big)^2\\Big) = -\\alpha\\Big( 1+ b + \\frac{2b^2}{\\alpha^2}x^2\\Big) + {\\cal O}(x^4).\n",
    "\\end{equation}\n"
   ]
  },
  {
   "cell_type": "markdown",
   "metadata": {},
   "source": [
    "Igualando término a término (potencias de $x$) tenemos que se debe satisfacer:\n",
    "\n",
    "\\begin{eqnarray}\n",
    "1 &=& -\\alpha(1 + b),\\\\\n",
    "b &=& - 2b^2/\\alpha.\\\\\n",
    "\\end{eqnarray}\n",
    "\n",
    "De aquí obtenemos: $b \\approx -\\alpha/2$ y $\\alpha\\approx 1+\\sqrt{3}=2.73\\dots$; el valor de \n",
    "esta constante es $\\alpha = 2.502907\\dots$."
   ]
  },
  {
   "cell_type": "markdown",
   "metadata": {},
   "source": [
    "La otra constante de Feigenbaum se obtiene estudiando las propiedades de la ecuación linearizada en $c$."
   ]
  },
  {
   "cell_type": "markdown",
   "metadata": {},
   "source": [
    "## Referencia\n",
    "\n",
    "Heinz Georg Schuster, Wolfram Just, Deterministic Chaos, 2006."
   ]
  }
 ],
 "metadata": {
  "kernelspec": {
   "display_name": "Julia 0.6.5-pre",
   "language": "julia",
   "name": "julia-0.6"
  },
  "language_info": {
   "file_extension": ".jl",
   "mimetype": "application/julia",
   "name": "julia",
   "version": "0.6.5"
  }
 },
 "nbformat": 4,
 "nbformat_minor": 1
}
